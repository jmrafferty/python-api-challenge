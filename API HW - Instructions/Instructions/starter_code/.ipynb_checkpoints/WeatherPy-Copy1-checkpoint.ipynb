{
 "cells": [
  {
   "cell_type": "markdown",
   "metadata": {},
   "source": [
    "# WeatherPy\n",
    "----\n",
    "\n",
    "#### Note\n",
    "* Instructions have been included for each segment. You do not have to follow them exactly, but they are included to help you think through the steps."
   ]
  },
  {
   "cell_type": "code",
   "execution_count": 1,
   "metadata": {},
   "outputs": [],
   "source": [
    "#pip install citipy -- done from command line"
   ]
  },
  {
   "cell_type": "code",
   "execution_count": 2,
   "metadata": {
    "scrolled": true
   },
   "outputs": [],
   "source": [
    "# Dependencies and Setup\n",
    "import citipy\n",
    "import matplotlib.pyplot as plt\n",
    "import pandas as pd\n",
    "import numpy as np\n",
    "import requests\n",
    "import time\n",
    "from scipy.stats import linregress\n",
    "from datetime import date\n",
    "\n",
    "# Import API key\n",
    "from api_keys import weather_api_key\n",
    "\n",
    "# Incorporated citipy to determine city based on latitude and longitude\n",
    "from citipy import citipy\n",
    "\n",
    "# Output File (CSV)\n",
    "output_data_file = \"output_data/cities.csv\"\n",
    "\n",
    "# Range of latitudes and longitudes\n",
    "lat_range = (-90, 90)\n",
    "lng_range = (-180, 180)\n",
    "\n",
    "today = date.today()"
   ]
  },
  {
   "cell_type": "markdown",
   "metadata": {},
   "source": [
    "## Generate Cities List"
   ]
  },
  {
   "cell_type": "code",
   "execution_count": 3,
   "metadata": {},
   "outputs": [
    {
     "data": {
      "text/plain": [
       "612"
      ]
     },
     "execution_count": 3,
     "metadata": {},
     "output_type": "execute_result"
    }
   ],
   "source": [
    "# List for holding lat_lngs and cities\n",
    "lat_lngs = []\n",
    "cities = []\n",
    "\n",
    "# Create a set of random lat and lng combinations\n",
    "lats = np.random.uniform(low=-90.000, high=90.000, size=1500)\n",
    "lngs = np.random.uniform(low=-180.000, high=180.000, size=1500)\n",
    "lat_lngs = zip(lats, lngs)\n",
    "\n",
    "# Identify nearest city for each lat, lng combination\n",
    "for lat_lng in lat_lngs:\n",
    "    city = citipy.nearest_city(lat_lng[0], lat_lng[1]).city_name\n",
    "    \n",
    "    # If the city is unique, then add it to a our cities list\n",
    "    if city not in cities:\n",
    "        cities.append(city)\n",
    "\n",
    "# Print the city count to confirm sufficient count\n",
    "len(cities)"
   ]
  },
  {
   "cell_type": "markdown",
   "metadata": {},
   "source": [
    "### Perform API Calls\n",
    "* Perform a weather check on each city using a series of successive API calls.\n",
    "* Include a print log of each city as it'sbeing processed (with the city number and city name).\n"
   ]
  },
  {
   "cell_type": "code",
   "execution_count": 4,
   "metadata": {},
   "outputs": [
    {
     "name": "stdout",
     "output_type": "stream",
     "text": [
      "['venkatagiri', 'dikson', 'ushuaia', 'khed brahma', 'tidore', 'bilibino', 'moose factory', 'nouadhibou', 'nikolskoye', 'zelenogorskiy', 'vaini', 'hithadhoo', 'jamestown', 'hay river', 'kapaa', 'berbera', 'disa', 'palabuhanratu', 'provideniya', 'amderma', 'rikitea', 'port hardy', 'labuhan', 'sentyabrskiy', 'amga', 'vila franca do campo', 'bluff', 'busselton', 'ordzhonikidze', 'taolanaro', 'lompoc', 'norman wells', 'qaanaaq', 'illoqqortoormiut', 'sur', 'lavrentiya', 'mataura', 'senekal', 'pilani', 'arraial do cabo', 'albany', 'cape town', 'hofn', 'puerto ayora', 'salinopolis', 'chuy', 'qaqortoq', 'nuuk', 'saskylakh', 'diamantino']\n"
     ]
    }
   ],
   "source": [
    "####ONLY FOR TESTING PURPOSES###\n",
    "cities = cities[0:50]\n",
    "print(cities)"
   ]
  },
  {
   "cell_type": "code",
   "execution_count": 5,
   "metadata": {},
   "outputs": [
    {
     "name": "stdout",
     "output_type": "stream",
     "text": [
      "6 cities not found\n"
     ]
    }
   ],
   "source": [
    "\n",
    "\n",
    "#step 1: Get URL using for loop to pull in\n",
    "\n",
    "# Save config information.\n",
    "url = \"http://api.openweathermap.org/data/2.5/weather?\"\n",
    "units = \"imperial\"\n",
    "\n",
    "# Build partial query URL\n",
    "query_url = f\"{url}appid={weather_api_key}&units={units}&q=\"\n",
    "\n",
    "# set up lists to hold reponse info\n",
    "city_list = []\n",
    "country = []\n",
    "lat = []\n",
    "long = []\n",
    "maxTemp = []\n",
    "humidity = []\n",
    "cloud = []\n",
    "wind = []\n",
    "#error counter\n",
    "errorCount = 0\n",
    "\n",
    "for city in cities:\n",
    "    \n",
    "    try:\n",
    "        response = requests.get(query_url + city).json()\n",
    "        lat.append(response['coord']['lat'])\n",
    "        long.append(response['coord']['lon'])\n",
    "        maxTemp.append(response['main']['temp_max'])\n",
    "        humidity.append(response['main']['humidity'])\n",
    "        cloud.append(response['clouds']['all'])\n",
    "        wind.append(response['wind']['speed'])\n",
    "        city_list.append(response['name'])\n",
    "        country.append(response['sys']['country'])\n",
    "        \n",
    "    except:\n",
    "        errorCount+=1\n",
    "        \n",
    "    #Wait a second in loop to not over exceed rate limit of API\n",
    "    time.sleep(1.01)\n",
    "print(f'{errorCount} cities not found')"
   ]
  },
  {
   "cell_type": "code",
   "execution_count": 6,
   "metadata": {},
   "outputs": [
    {
     "name": "stdout",
     "output_type": "stream",
     "text": [
      "['Venkatagiri', 'Dikson', 'Ushuaia', 'Khedbrahma', 'Bilibino', 'Moose Factory', 'Nouadhibou', 'Nikolskoye', 'Zelenogorskiy', 'Vaini', 'Hithadhoo', 'Jamestown', 'Hay River', 'Kapaa', 'Berbera', 'Deesa', 'Provideniya', 'Rikitea', 'Port Hardy', 'Labuhan', 'Amga', 'Vila Franca do Campo', 'Bluff', 'Busselton', 'Ordzhonikidze', 'Lompoc', 'Norman Wells', 'Qaanaaq', 'Sur', 'Lavrentiya', 'Mataura', 'Senekal', 'Pilani', 'Arraial do Cabo', 'Albany', 'Cape Town', 'Hofn', 'Puerto Ayora', 'Salinopolis', 'Chui', 'Qaqortoq', 'Nuuk', 'Saskylakh', 'Diamantino']\n",
      "['IN', 'RU', 'AR', 'IN', 'RU', 'CA', 'MR', 'RU', 'RU', 'TO', 'MV', 'US', 'CA', 'US', 'SO', 'IN', 'RU', 'PF', 'CA', 'ID', 'RU', 'PT', 'NZ', 'AU', 'KZ', 'US', 'CA', 'GL', 'OM', 'RU', 'NZ', 'ZA', 'IN', 'BR', 'US', 'ZA', 'IS', 'EC', 'BR', 'UY', 'GL', 'GL', 'RU', 'BR']\n",
      "[13.97, 73.51, -54.8, 24.03, 68.05, 51.26, 20.93, 59.7, 55.03, -21.2, -0.6, 42.1, 60.82, 22.08, 10.44, 24.25, 64.38, -23.12, 50.7, -6.88, 60.9, 37.72, -46.6, -33.65, 52.44, 34.64, 65.28, 77.48, 22.57, 65.58, -46.19, -28.32, 28.37, -22.97, 42.6, -33.93, 64.25, -0.74, -0.61, -33.7, 60.72, 64.18, 71.92, -14.41]\n",
      "[79.58, 80.55, -68.3, 73.05, 166.44, -80.61, -17.03, 30.79, 87, -175.2, 73.08, -79.24, -115.8, -159.32, 45.01, 72.17, -173.3, -134.97, -127.42, 112.21, 131.96, -25.43, 168.33, 115.33, 61.74, -120.46, -126.83, -69.36, 59.53, -171, 168.86, 27.62, 75.6, -42.03, -73.97, 18.42, -15.21, -90.35, -47.36, -53.46, -46.03, -51.72, 114.08, -56.45]\n",
      "[75.2, 4.03, 53.6, 65.35, -14.31, 12.2, 62.6, 35.01, 1.4, 82.4, 83.08, 34, -31, 71.6, 78.71, 66.45, 1.4, 78.96, 35.6, 83.25, -0.85, 59, 63, 91.99, 9.63, 55.4, -9.4, -19.1, 67.15, -5.13, 63, 54.61, 60.4, 76.15, 35.6, 69.01, 32.58, 78.64, 81.12, 65.34, 3.2, 10.4, -33.11, 69.93]\n",
      "[78, 89, 71, 35, 71, 85, 67, 97, 84, 88, 74, 68, 73, 83, 80, 37, 84, 80, 93, 77, 94, 82, 76, 42, 94, 56, 83, 62, 80, 94, 76, 95, 40, 78, 100, 88, 57, 82, 83, 83, 38, 66, 96, 95]\n",
      "[20, 100, 75, 0, 0, 90, 0, 75, 75, 75, 62, 90, 40, 40, 100, 22, 90, 100, 20, 100, 100, 40, 98, 100, 100, 1, 75, 0, 100, 100, 78, 0, 24, 100, 90, 0, 86, 68, 100, 5, 38, 100, 28, 100]\n",
      "[2.24, 33.17, 11.41, 5.55, 3.4, 6.93, 11.41, 6.71, 11.18, 9.17, 18.07, 12.75, 3.36, 19.46, 16.84, 6.82, 17.9, 20.56, 4.7, 2.06, 1.14, 10.63, 8.01, 4, 7.2, 4.29, 2.24, 6.82, 4.54, 9.66, 8.01, 4.47, 1.16, 11.1, 8.05, 6.93, 11.36, 4.47, 17.76, 9.71, 8.05, 12.75, 4.9, 1.88]\n"
     ]
    }
   ],
   "source": [
    "print(city_list)\n",
    "print(country)\n",
    "print(lat)\n",
    "print(long)\n",
    "print(maxTemp)\n",
    "print(humidity)\n",
    "print(cloud)\n",
    "print(wind)"
   ]
  },
  {
   "cell_type": "code",
   "execution_count": 7,
   "metadata": {},
   "outputs": [],
   "source": [
    "city_weatherInfo= {'City':city_list, 'Country':country, 'Latitude':lat, 'Longitude':long,\n",
    "               'High Temp':maxTemp, 'Humidity':humidity, 'Cloudiness':cloud, 'Wind Speed':wind}\n",
    "\n",
    "#city_weatherInfo"
   ]
  },
  {
   "cell_type": "code",
   "execution_count": 8,
   "metadata": {
    "scrolled": false
   },
   "outputs": [],
   "source": [
    "#step 3: Convert to DF\n",
    "\n",
    "city_weatherDF = pd.DataFrame(city_weatherInfo)"
   ]
  },
  {
   "cell_type": "markdown",
   "metadata": {},
   "source": [
    "### Convert Raw Data to DataFrame\n",
    "* Export the city data into a .csv.\n",
    "* Display the DataFrame"
   ]
  },
  {
   "cell_type": "code",
   "execution_count": 9,
   "metadata": {},
   "outputs": [],
   "source": [
    "city_weatherDF.to_csv('output_data_file')"
   ]
  },
  {
   "cell_type": "code",
   "execution_count": 10,
   "metadata": {},
   "outputs": [
    {
     "data": {
      "text/html": [
       "<div>\n",
       "<style scoped>\n",
       "    .dataframe tbody tr th:only-of-type {\n",
       "        vertical-align: middle;\n",
       "    }\n",
       "\n",
       "    .dataframe tbody tr th {\n",
       "        vertical-align: top;\n",
       "    }\n",
       "\n",
       "    .dataframe thead th {\n",
       "        text-align: right;\n",
       "    }\n",
       "</style>\n",
       "<table border=\"1\" class=\"dataframe\">\n",
       "  <thead>\n",
       "    <tr style=\"text-align: right;\">\n",
       "      <th></th>\n",
       "      <th>City</th>\n",
       "      <th>Country</th>\n",
       "      <th>Latitude</th>\n",
       "      <th>Longitude</th>\n",
       "      <th>High Temp</th>\n",
       "      <th>Humidity</th>\n",
       "      <th>Cloudiness</th>\n",
       "      <th>Wind Speed</th>\n",
       "    </tr>\n",
       "  </thead>\n",
       "  <tbody>\n",
       "    <tr>\n",
       "      <td>0</td>\n",
       "      <td>Venkatagiri</td>\n",
       "      <td>IN</td>\n",
       "      <td>13.97</td>\n",
       "      <td>79.58</td>\n",
       "      <td>75.20</td>\n",
       "      <td>78</td>\n",
       "      <td>20</td>\n",
       "      <td>2.24</td>\n",
       "    </tr>\n",
       "    <tr>\n",
       "      <td>1</td>\n",
       "      <td>Dikson</td>\n",
       "      <td>RU</td>\n",
       "      <td>73.51</td>\n",
       "      <td>80.55</td>\n",
       "      <td>4.03</td>\n",
       "      <td>89</td>\n",
       "      <td>100</td>\n",
       "      <td>33.17</td>\n",
       "    </tr>\n",
       "    <tr>\n",
       "      <td>2</td>\n",
       "      <td>Ushuaia</td>\n",
       "      <td>AR</td>\n",
       "      <td>-54.80</td>\n",
       "      <td>-68.30</td>\n",
       "      <td>53.60</td>\n",
       "      <td>71</td>\n",
       "      <td>75</td>\n",
       "      <td>11.41</td>\n",
       "    </tr>\n",
       "    <tr>\n",
       "      <td>3</td>\n",
       "      <td>Khedbrahma</td>\n",
       "      <td>IN</td>\n",
       "      <td>24.03</td>\n",
       "      <td>73.05</td>\n",
       "      <td>65.35</td>\n",
       "      <td>35</td>\n",
       "      <td>0</td>\n",
       "      <td>5.55</td>\n",
       "    </tr>\n",
       "    <tr>\n",
       "      <td>4</td>\n",
       "      <td>Bilibino</td>\n",
       "      <td>RU</td>\n",
       "      <td>68.05</td>\n",
       "      <td>166.44</td>\n",
       "      <td>-14.31</td>\n",
       "      <td>71</td>\n",
       "      <td>0</td>\n",
       "      <td>3.40</td>\n",
       "    </tr>\n",
       "    <tr>\n",
       "      <td>5</td>\n",
       "      <td>Moose Factory</td>\n",
       "      <td>CA</td>\n",
       "      <td>51.26</td>\n",
       "      <td>-80.61</td>\n",
       "      <td>12.20</td>\n",
       "      <td>85</td>\n",
       "      <td>90</td>\n",
       "      <td>6.93</td>\n",
       "    </tr>\n",
       "    <tr>\n",
       "      <td>6</td>\n",
       "      <td>Nouadhibou</td>\n",
       "      <td>MR</td>\n",
       "      <td>20.93</td>\n",
       "      <td>-17.03</td>\n",
       "      <td>62.60</td>\n",
       "      <td>67</td>\n",
       "      <td>0</td>\n",
       "      <td>11.41</td>\n",
       "    </tr>\n",
       "    <tr>\n",
       "      <td>7</td>\n",
       "      <td>Nikolskoye</td>\n",
       "      <td>RU</td>\n",
       "      <td>59.70</td>\n",
       "      <td>30.79</td>\n",
       "      <td>35.01</td>\n",
       "      <td>97</td>\n",
       "      <td>75</td>\n",
       "      <td>6.71</td>\n",
       "    </tr>\n",
       "    <tr>\n",
       "      <td>8</td>\n",
       "      <td>Zelenogorskiy</td>\n",
       "      <td>RU</td>\n",
       "      <td>55.03</td>\n",
       "      <td>87.00</td>\n",
       "      <td>1.40</td>\n",
       "      <td>84</td>\n",
       "      <td>75</td>\n",
       "      <td>11.18</td>\n",
       "    </tr>\n",
       "    <tr>\n",
       "      <td>9</td>\n",
       "      <td>Vaini</td>\n",
       "      <td>TO</td>\n",
       "      <td>-21.20</td>\n",
       "      <td>-175.20</td>\n",
       "      <td>82.40</td>\n",
       "      <td>88</td>\n",
       "      <td>75</td>\n",
       "      <td>9.17</td>\n",
       "    </tr>\n",
       "  </tbody>\n",
       "</table>\n",
       "</div>"
      ],
      "text/plain": [
       "            City Country  Latitude  Longitude  High Temp  Humidity  \\\n",
       "0    Venkatagiri      IN     13.97      79.58      75.20        78   \n",
       "1         Dikson      RU     73.51      80.55       4.03        89   \n",
       "2        Ushuaia      AR    -54.80     -68.30      53.60        71   \n",
       "3     Khedbrahma      IN     24.03      73.05      65.35        35   \n",
       "4       Bilibino      RU     68.05     166.44     -14.31        71   \n",
       "5  Moose Factory      CA     51.26     -80.61      12.20        85   \n",
       "6     Nouadhibou      MR     20.93     -17.03      62.60        67   \n",
       "7     Nikolskoye      RU     59.70      30.79      35.01        97   \n",
       "8  Zelenogorskiy      RU     55.03      87.00       1.40        84   \n",
       "9          Vaini      TO    -21.20    -175.20      82.40        88   \n",
       "\n",
       "   Cloudiness  Wind Speed  \n",
       "0          20        2.24  \n",
       "1         100       33.17  \n",
       "2          75       11.41  \n",
       "3           0        5.55  \n",
       "4           0        3.40  \n",
       "5          90        6.93  \n",
       "6           0       11.41  \n",
       "7          75        6.71  \n",
       "8          75       11.18  \n",
       "9          75        9.17  "
      ]
     },
     "execution_count": 10,
     "metadata": {},
     "output_type": "execute_result"
    }
   ],
   "source": [
    "city_weatherDF.head(10)"
   ]
  },
  {
   "cell_type": "markdown",
   "metadata": {},
   "source": [
    "### Plotting the Data\n",
    "* Use proper labeling of the plots using plot titles (including date of analysis) and axes labels.\n",
    "* Save the plotted figures as .pngs."
   ]
  },
  {
   "cell_type": "markdown",
   "metadata": {},
   "source": [
    "#### Latitude vs. Temperature Plot"
   ]
  },
  {
   "cell_type": "code",
   "execution_count": 11,
   "metadata": {
    "scrolled": true
   },
   "outputs": [
    {
     "data": {
      "image/png": "[encoded data removed]",
      "text/plain": [
       "<Figure size 432x288 with 1 Axes>"
      ]
     },
     "metadata": {
      "needs_background": "light"
     },
     "output_type": "display_data"
    }
   ],
   "source": [
    "# The maximum x value for our chart will be 100\n",
    "x_limit = 100\n",
    "y_limit = 100\n",
    "\n",
    "\n",
    "\n",
    "plt.scatter(lat, maxTemp, marker=\"o\", facecolors=\"red\", edgecolors=\"black\", alpha=0.75)\n",
    "\n",
    "\n",
    "plt.title(\"City Latitude vs. Max Temperature \" + str(today))\n",
    "plt.xlabel(\"Latitude\")\n",
    "plt.ylabel(\"Max Temp (F)\")\n",
    "plt.show()"
   ]
  },
  {
   "cell_type": "markdown",
   "metadata": {},
   "source": [
    "#### Latitude vs. Humidity Plot"
   ]
  },
  {
   "cell_type": "code",
   "execution_count": 12,
   "metadata": {},
   "outputs": [
    {
     "data": {
      "image/png": "[encoded data removed]",
      "text/plain": [
       "<Figure size 432x288 with 1 Axes>"
      ]
     },
     "metadata": {
      "needs_background": "light"
     },
     "output_type": "display_data"
    }
   ],
   "source": [
    "plt.scatter(lat, humidity, marker=\"o\", facecolors=\"red\", edgecolors=\"black\", alpha=0.75)\n",
    "\n",
    "plt.title(\"City Latitude vs. Humidity \" + str(today))\n",
    "plt.xlabel(\"Latitude\")\n",
    "plt.ylabel(\"Humidity (%)\")\n",
    "plt.show()"
   ]
  },
  {
   "cell_type": "markdown",
   "metadata": {},
   "source": [
    "#### Latitude vs. Cloudiness Plot"
   ]
  },
  {
   "cell_type": "code",
   "execution_count": 13,
   "metadata": {},
   "outputs": [
    {
     "data": {
      "image/png": "[encoded data removed]",
      "text/plain": [
       "<Figure size 432x288 with 1 Axes>"
      ]
     },
     "metadata": {
      "needs_background": "light"
     },
     "output_type": "display_data"
    }
   ],
   "source": [
    "plt.scatter(lat, cloud, marker=\"o\", facecolors=\"red\", edgecolors=\"black\", alpha=0.75)\n",
    "\n",
    "plt.title(\"City Latitude vs. Cloudiness \" + str(today))\n",
    "plt.xlabel(\"Latitude\")\n",
    "plt.ylabel(\"Cloudiness (%)\")\n",
    "plt.show()"
   ]
  },
  {
   "cell_type": "markdown",
   "metadata": {},
   "source": [
    "#### Latitude vs. Wind Speed Plot"
   ]
  },
  {
   "cell_type": "code",
   "execution_count": 14,
   "metadata": {},
   "outputs": [
    {
     "data": {
      "image/png": "[encoded data removed]",
      "text/plain": [
       "<Figure size 432x288 with 1 Axes>"
      ]
     },
     "metadata": {
      "needs_background": "light"
     },
     "output_type": "display_data"
    }
   ],
   "source": [
    "plt.scatter(lat, wind, marker=\"o\", facecolors=\"red\", edgecolors=\"black\", alpha=0.75)\n",
    "\n",
    "plt.title(\"City Latitude vs. Wind Speed \" + str(today))\n",
    "plt.xlabel(\"Latitude\")\n",
    "plt.ylabel(\"Wind Speed (mph)\")\n",
    "plt.show()"
   ]
  },
  {
   "cell_type": "code",
   "execution_count": 15,
   "metadata": {},
   "outputs": [
    {
     "name": "stdout",
     "output_type": "stream",
     "text": [
      "['Venkatagiri', 'Dikson', 'Ushuaia', 'Khedbrahma', 'Bilibino', 'Moose Factory', 'Nouadhibou', 'Nikolskoye', 'Zelenogorskiy', 'Vaini', 'Hithadhoo', 'Jamestown', 'Hay River', 'Kapaa', 'Berbera', 'Deesa', 'Provideniya', 'Rikitea', 'Port Hardy', 'Labuhan', 'Amga', 'Vila Franca do Campo', 'Bluff', 'Busselton', 'Ordzhonikidze', 'Lompoc', 'Norman Wells', 'Qaanaaq', 'Sur', 'Lavrentiya', 'Mataura', 'Senekal', 'Pilani', 'Arraial do Cabo', 'Albany', 'Cape Town', 'Hofn', 'Puerto Ayora', 'Salinopolis', 'Chui', 'Qaqortoq', 'Nuuk', 'Saskylakh', 'Diamantino']\n",
      "['IN', 'RU', 'AR', 'IN', 'RU', 'CA', 'MR', 'RU', 'RU', 'TO', 'MV', 'US', 'CA', 'US', 'SO', 'IN', 'RU', 'PF', 'CA', 'ID', 'RU', 'PT', 'NZ', 'AU', 'KZ', 'US', 'CA', 'GL', 'OM', 'RU', 'NZ', 'ZA', 'IN', 'BR', 'US', 'ZA', 'IS', 'EC', 'BR', 'UY', 'GL', 'GL', 'RU', 'BR']\n",
      "[13.97, 73.51, -54.8, 24.03, 68.05, 51.26, 20.93, 59.7, 55.03, -21.2, -0.6, 42.1, 60.82, 22.08, 10.44, 24.25, 64.38, -23.12, 50.7, -6.88, 60.9, 37.72, -46.6, -33.65, 52.44, 34.64, 65.28, 77.48, 22.57, 65.58, -46.19, -28.32, 28.37, -22.97, 42.6, -33.93, 64.25, -0.74, -0.61, -33.7, 60.72, 64.18, 71.92, -14.41]\n",
      "[79.58, 80.55, -68.3, 73.05, 166.44, -80.61, -17.03, 30.79, 87, -175.2, 73.08, -79.24, -115.8, -159.32, 45.01, 72.17, -173.3, -134.97, -127.42, 112.21, 131.96, -25.43, 168.33, 115.33, 61.74, -120.46, -126.83, -69.36, 59.53, -171, 168.86, 27.62, 75.6, -42.03, -73.97, 18.42, -15.21, -90.35, -47.36, -53.46, -46.03, -51.72, 114.08, -56.45]\n",
      "[75.2, 4.03, 53.6, 65.35, -14.31, 12.2, 62.6, 35.01, 1.4, 82.4, 83.08, 34, -31, 71.6, 78.71, 66.45, 1.4, 78.96, 35.6, 83.25, -0.85, 59, 63, 91.99, 9.63, 55.4, -9.4, -19.1, 67.15, -5.13, 63, 54.61, 60.4, 76.15, 35.6, 69.01, 32.58, 78.64, 81.12, 65.34, 3.2, 10.4, -33.11, 69.93]\n",
      "[78, 89, 71, 35, 71, 85, 67, 97, 84, 88, 74, 68, 73, 83, 80, 37, 84, 80, 93, 77, 94, 82, 76, 42, 94, 56, 83, 62, 80, 94, 76, 95, 40, 78, 100, 88, 57, 82, 83, 83, 38, 66, 96, 95]\n",
      "[20, 100, 75, 0, 0, 90, 0, 75, 75, 75, 62, 90, 40, 40, 100, 22, 90, 100, 20, 100, 100, 40, 98, 100, 100, 1, 75, 0, 100, 100, 78, 0, 24, 100, 90, 0, 86, 68, 100, 5, 38, 100, 28, 100]\n",
      "[2.24, 33.17, 11.41, 5.55, 3.4, 6.93, 11.41, 6.71, 11.18, 9.17, 18.07, 12.75, 3.36, 19.46, 16.84, 6.82, 17.9, 20.56, 4.7, 2.06, 1.14, 10.63, 8.01, 4, 7.2, 4.29, 2.24, 6.82, 4.54, 9.66, 8.01, 4.47, 1.16, 11.1, 8.05, 6.93, 11.36, 4.47, 17.76, 9.71, 8.05, 12.75, 4.9, 1.88]\n"
     ]
    }
   ],
   "source": [
    "print(city_list)\n",
    "print(country)\n",
    "print(lat)\n",
    "print(long)\n",
    "print(maxTemp)\n",
    "print(humidity)\n",
    "print(cloud)\n",
    "print(wind)"
   ]
  },
  {
   "cell_type": "markdown",
   "metadata": {},
   "source": [
    "## Linear Regression"
   ]
  },
  {
   "cell_type": "code",
   "execution_count": 16,
   "metadata": {},
   "outputs": [],
   "source": [
    "# OPTIONAL: Create a function to create Linear Regression plots\n"
   ]
  },
  {
   "cell_type": "code",
   "execution_count": 17,
   "metadata": {},
   "outputs": [
    {
     "data": {
      "text/html": [
       "<div>\n",
       "<style scoped>\n",
       "    .dataframe tbody tr th:only-of-type {\n",
       "        vertical-align: middle;\n",
       "    }\n",
       "\n",
       "    .dataframe tbody tr th {\n",
       "        vertical-align: top;\n",
       "    }\n",
       "\n",
       "    .dataframe thead th {\n",
       "        text-align: right;\n",
       "    }\n",
       "</style>\n",
       "<table border=\"1\" class=\"dataframe\">\n",
       "  <thead>\n",
       "    <tr style=\"text-align: right;\">\n",
       "      <th></th>\n",
       "      <th>City</th>\n",
       "      <th>Country</th>\n",
       "      <th>Latitude</th>\n",
       "      <th>Longitude</th>\n",
       "      <th>High Temp</th>\n",
       "      <th>Humidity</th>\n",
       "      <th>Cloudiness</th>\n",
       "      <th>Wind Speed</th>\n",
       "    </tr>\n",
       "  </thead>\n",
       "  <tbody>\n",
       "    <tr>\n",
       "      <td>0</td>\n",
       "      <td>Venkatagiri</td>\n",
       "      <td>IN</td>\n",
       "      <td>13.97</td>\n",
       "      <td>79.58</td>\n",
       "      <td>75.20</td>\n",
       "      <td>78</td>\n",
       "      <td>20</td>\n",
       "      <td>2.24</td>\n",
       "    </tr>\n",
       "    <tr>\n",
       "      <td>1</td>\n",
       "      <td>Dikson</td>\n",
       "      <td>RU</td>\n",
       "      <td>73.51</td>\n",
       "      <td>80.55</td>\n",
       "      <td>4.03</td>\n",
       "      <td>89</td>\n",
       "      <td>100</td>\n",
       "      <td>33.17</td>\n",
       "    </tr>\n",
       "    <tr>\n",
       "      <td>2</td>\n",
       "      <td>Ushuaia</td>\n",
       "      <td>AR</td>\n",
       "      <td>-54.80</td>\n",
       "      <td>-68.30</td>\n",
       "      <td>53.60</td>\n",
       "      <td>71</td>\n",
       "      <td>75</td>\n",
       "      <td>11.41</td>\n",
       "    </tr>\n",
       "    <tr>\n",
       "      <td>3</td>\n",
       "      <td>Khedbrahma</td>\n",
       "      <td>IN</td>\n",
       "      <td>24.03</td>\n",
       "      <td>73.05</td>\n",
       "      <td>65.35</td>\n",
       "      <td>35</td>\n",
       "      <td>0</td>\n",
       "      <td>5.55</td>\n",
       "    </tr>\n",
       "    <tr>\n",
       "      <td>4</td>\n",
       "      <td>Bilibino</td>\n",
       "      <td>RU</td>\n",
       "      <td>68.05</td>\n",
       "      <td>166.44</td>\n",
       "      <td>-14.31</td>\n",
       "      <td>71</td>\n",
       "      <td>0</td>\n",
       "      <td>3.40</td>\n",
       "    </tr>\n",
       "    <tr>\n",
       "      <td>5</td>\n",
       "      <td>Moose Factory</td>\n",
       "      <td>CA</td>\n",
       "      <td>51.26</td>\n",
       "      <td>-80.61</td>\n",
       "      <td>12.20</td>\n",
       "      <td>85</td>\n",
       "      <td>90</td>\n",
       "      <td>6.93</td>\n",
       "    </tr>\n",
       "    <tr>\n",
       "      <td>6</td>\n",
       "      <td>Nouadhibou</td>\n",
       "      <td>MR</td>\n",
       "      <td>20.93</td>\n",
       "      <td>-17.03</td>\n",
       "      <td>62.60</td>\n",
       "      <td>67</td>\n",
       "      <td>0</td>\n",
       "      <td>11.41</td>\n",
       "    </tr>\n",
       "    <tr>\n",
       "      <td>7</td>\n",
       "      <td>Nikolskoye</td>\n",
       "      <td>RU</td>\n",
       "      <td>59.70</td>\n",
       "      <td>30.79</td>\n",
       "      <td>35.01</td>\n",
       "      <td>97</td>\n",
       "      <td>75</td>\n",
       "      <td>6.71</td>\n",
       "    </tr>\n",
       "    <tr>\n",
       "      <td>8</td>\n",
       "      <td>Zelenogorskiy</td>\n",
       "      <td>RU</td>\n",
       "      <td>55.03</td>\n",
       "      <td>87.00</td>\n",
       "      <td>1.40</td>\n",
       "      <td>84</td>\n",
       "      <td>75</td>\n",
       "      <td>11.18</td>\n",
       "    </tr>\n",
       "    <tr>\n",
       "      <td>9</td>\n",
       "      <td>Vaini</td>\n",
       "      <td>TO</td>\n",
       "      <td>-21.20</td>\n",
       "      <td>-175.20</td>\n",
       "      <td>82.40</td>\n",
       "      <td>88</td>\n",
       "      <td>75</td>\n",
       "      <td>9.17</td>\n",
       "    </tr>\n",
       "  </tbody>\n",
       "</table>\n",
       "</div>"
      ],
      "text/plain": [
       "            City Country  Latitude  Longitude  High Temp  Humidity  \\\n",
       "0    Venkatagiri      IN     13.97      79.58      75.20        78   \n",
       "1         Dikson      RU     73.51      80.55       4.03        89   \n",
       "2        Ushuaia      AR    -54.80     -68.30      53.60        71   \n",
       "3     Khedbrahma      IN     24.03      73.05      65.35        35   \n",
       "4       Bilibino      RU     68.05     166.44     -14.31        71   \n",
       "5  Moose Factory      CA     51.26     -80.61      12.20        85   \n",
       "6     Nouadhibou      MR     20.93     -17.03      62.60        67   \n",
       "7     Nikolskoye      RU     59.70      30.79      35.01        97   \n",
       "8  Zelenogorskiy      RU     55.03      87.00       1.40        84   \n",
       "9          Vaini      TO    -21.20    -175.20      82.40        88   \n",
       "\n",
       "   Cloudiness  Wind Speed  \n",
       "0          20        2.24  \n",
       "1         100       33.17  \n",
       "2          75       11.41  \n",
       "3           0        5.55  \n",
       "4           0        3.40  \n",
       "5          90        6.93  \n",
       "6           0       11.41  \n",
       "7          75        6.71  \n",
       "8          75       11.18  \n",
       "9          75        9.17  "
      ]
     },
     "execution_count": 17,
     "metadata": {},
     "output_type": "execute_result"
    }
   ],
   "source": [
    "city_weatherDF.head(10)"
   ]
  },
  {
   "cell_type": "code",
   "execution_count": 18,
   "metadata": {},
   "outputs": [],
   "source": [
    "# Create Northern and Southern Hemisphere DataFrames\n",
    "\n",
    "north_df = city_weatherDF[city_weatherDF['Latitude'] >= 0]\n",
    "\n",
    "south_df = city_weatherDF[city_weatherDF['Latitude'] <= 0]"
   ]
  },
  {
   "cell_type": "code",
   "execution_count": 19,
   "metadata": {},
   "outputs": [
    {
     "data": {
      "text/html": [
       "<div>\n",
       "<style scoped>\n",
       "    .dataframe tbody tr th:only-of-type {\n",
       "        vertical-align: middle;\n",
       "    }\n",
       "\n",
       "    .dataframe tbody tr th {\n",
       "        vertical-align: top;\n",
       "    }\n",
       "\n",
       "    .dataframe thead th {\n",
       "        text-align: right;\n",
       "    }\n",
       "</style>\n",
       "<table border=\"1\" class=\"dataframe\">\n",
       "  <thead>\n",
       "    <tr style=\"text-align: right;\">\n",
       "      <th></th>\n",
       "      <th>City</th>\n",
       "      <th>Country</th>\n",
       "      <th>Latitude</th>\n",
       "      <th>Longitude</th>\n",
       "      <th>High Temp</th>\n",
       "      <th>Humidity</th>\n",
       "      <th>Cloudiness</th>\n",
       "      <th>Wind Speed</th>\n",
       "    </tr>\n",
       "  </thead>\n",
       "  <tbody>\n",
       "    <tr>\n",
       "      <td>0</td>\n",
       "      <td>Venkatagiri</td>\n",
       "      <td>IN</td>\n",
       "      <td>13.97</td>\n",
       "      <td>79.58</td>\n",
       "      <td>75.20</td>\n",
       "      <td>78</td>\n",
       "      <td>20</td>\n",
       "      <td>2.24</td>\n",
       "    </tr>\n",
       "    <tr>\n",
       "      <td>1</td>\n",
       "      <td>Dikson</td>\n",
       "      <td>RU</td>\n",
       "      <td>73.51</td>\n",
       "      <td>80.55</td>\n",
       "      <td>4.03</td>\n",
       "      <td>89</td>\n",
       "      <td>100</td>\n",
       "      <td>33.17</td>\n",
       "    </tr>\n",
       "    <tr>\n",
       "      <td>3</td>\n",
       "      <td>Khedbrahma</td>\n",
       "      <td>IN</td>\n",
       "      <td>24.03</td>\n",
       "      <td>73.05</td>\n",
       "      <td>65.35</td>\n",
       "      <td>35</td>\n",
       "      <td>0</td>\n",
       "      <td>5.55</td>\n",
       "    </tr>\n",
       "    <tr>\n",
       "      <td>4</td>\n",
       "      <td>Bilibino</td>\n",
       "      <td>RU</td>\n",
       "      <td>68.05</td>\n",
       "      <td>166.44</td>\n",
       "      <td>-14.31</td>\n",
       "      <td>71</td>\n",
       "      <td>0</td>\n",
       "      <td>3.40</td>\n",
       "    </tr>\n",
       "    <tr>\n",
       "      <td>5</td>\n",
       "      <td>Moose Factory</td>\n",
       "      <td>CA</td>\n",
       "      <td>51.26</td>\n",
       "      <td>-80.61</td>\n",
       "      <td>12.20</td>\n",
       "      <td>85</td>\n",
       "      <td>90</td>\n",
       "      <td>6.93</td>\n",
       "    </tr>\n",
       "  </tbody>\n",
       "</table>\n",
       "</div>"
      ],
      "text/plain": [
       "            City Country  Latitude  Longitude  High Temp  Humidity  \\\n",
       "0    Venkatagiri      IN     13.97      79.58      75.20        78   \n",
       "1         Dikson      RU     73.51      80.55       4.03        89   \n",
       "3     Khedbrahma      IN     24.03      73.05      65.35        35   \n",
       "4       Bilibino      RU     68.05     166.44     -14.31        71   \n",
       "5  Moose Factory      CA     51.26     -80.61      12.20        85   \n",
       "\n",
       "   Cloudiness  Wind Speed  \n",
       "0          20        2.24  \n",
       "1         100       33.17  \n",
       "3           0        5.55  \n",
       "4           0        3.40  \n",
       "5          90        6.93  "
      ]
     },
     "execution_count": 19,
     "metadata": {},
     "output_type": "execute_result"
    }
   ],
   "source": [
    "north_df.head()"
   ]
  },
  {
   "cell_type": "code",
   "execution_count": 20,
   "metadata": {},
   "outputs": [
    {
     "data": {
      "text/html": [
       "<div>\n",
       "<style scoped>\n",
       "    .dataframe tbody tr th:only-of-type {\n",
       "        vertical-align: middle;\n",
       "    }\n",
       "\n",
       "    .dataframe tbody tr th {\n",
       "        vertical-align: top;\n",
       "    }\n",
       "\n",
       "    .dataframe thead th {\n",
       "        text-align: right;\n",
       "    }\n",
       "</style>\n",
       "<table border=\"1\" class=\"dataframe\">\n",
       "  <thead>\n",
       "    <tr style=\"text-align: right;\">\n",
       "      <th></th>\n",
       "      <th>City</th>\n",
       "      <th>Country</th>\n",
       "      <th>Latitude</th>\n",
       "      <th>Longitude</th>\n",
       "      <th>High Temp</th>\n",
       "      <th>Humidity</th>\n",
       "      <th>Cloudiness</th>\n",
       "      <th>Wind Speed</th>\n",
       "    </tr>\n",
       "  </thead>\n",
       "  <tbody>\n",
       "    <tr>\n",
       "      <td>2</td>\n",
       "      <td>Ushuaia</td>\n",
       "      <td>AR</td>\n",
       "      <td>-54.80</td>\n",
       "      <td>-68.30</td>\n",
       "      <td>53.60</td>\n",
       "      <td>71</td>\n",
       "      <td>75</td>\n",
       "      <td>11.41</td>\n",
       "    </tr>\n",
       "    <tr>\n",
       "      <td>9</td>\n",
       "      <td>Vaini</td>\n",
       "      <td>TO</td>\n",
       "      <td>-21.20</td>\n",
       "      <td>-175.20</td>\n",
       "      <td>82.40</td>\n",
       "      <td>88</td>\n",
       "      <td>75</td>\n",
       "      <td>9.17</td>\n",
       "    </tr>\n",
       "    <tr>\n",
       "      <td>10</td>\n",
       "      <td>Hithadhoo</td>\n",
       "      <td>MV</td>\n",
       "      <td>-0.60</td>\n",
       "      <td>73.08</td>\n",
       "      <td>83.08</td>\n",
       "      <td>74</td>\n",
       "      <td>62</td>\n",
       "      <td>18.07</td>\n",
       "    </tr>\n",
       "    <tr>\n",
       "      <td>17</td>\n",
       "      <td>Rikitea</td>\n",
       "      <td>PF</td>\n",
       "      <td>-23.12</td>\n",
       "      <td>-134.97</td>\n",
       "      <td>78.96</td>\n",
       "      <td>80</td>\n",
       "      <td>100</td>\n",
       "      <td>20.56</td>\n",
       "    </tr>\n",
       "    <tr>\n",
       "      <td>19</td>\n",
       "      <td>Labuhan</td>\n",
       "      <td>ID</td>\n",
       "      <td>-6.88</td>\n",
       "      <td>112.21</td>\n",
       "      <td>83.25</td>\n",
       "      <td>77</td>\n",
       "      <td>100</td>\n",
       "      <td>2.06</td>\n",
       "    </tr>\n",
       "  </tbody>\n",
       "</table>\n",
       "</div>"
      ],
      "text/plain": [
       "         City Country  Latitude  Longitude  High Temp  Humidity  Cloudiness  \\\n",
       "2     Ushuaia      AR    -54.80     -68.30      53.60        71          75   \n",
       "9       Vaini      TO    -21.20    -175.20      82.40        88          75   \n",
       "10  Hithadhoo      MV     -0.60      73.08      83.08        74          62   \n",
       "17    Rikitea      PF    -23.12    -134.97      78.96        80         100   \n",
       "19    Labuhan      ID     -6.88     112.21      83.25        77         100   \n",
       "\n",
       "    Wind Speed  \n",
       "2        11.41  \n",
       "9         9.17  \n",
       "10       18.07  \n",
       "17       20.56  \n",
       "19        2.06  "
      ]
     },
     "execution_count": 20,
     "metadata": {},
     "output_type": "execute_result"
    }
   ],
   "source": [
    "south_df.head()"
   ]
  },
  {
   "cell_type": "code",
   "execution_count": 21,
   "metadata": {},
   "outputs": [
    {
     "name": "stdout",
     "output_type": "stream",
     "text": [
      "-1.5875430618549595\n",
      "102.43227936800719\n",
      "-0.9172781520194887\n",
      "2.6368010884693814e-12\n",
      "0.1326463360258855\n",
      "---------------------\n",
      "y = -1.59x + 102.43\n"
     ]
    },
    {
     "data": {
      "image/png": "[encoded data removed]",
      "text/plain": [
       "<Figure size 432x288 with 1 Axes>"
      ]
     },
     "metadata": {
      "needs_background": "light"
     },
     "output_type": "display_data"
    }
   ],
   "source": [
    "x_limit = 100\n",
    "y_limit = 100\n",
    "\n",
    "\n",
    "(slope, intercept, rvalue, pvalue, stderr) = linregress(north_df['Latitude'], north_df['High Temp'])\n",
    "regress_values = north_df['Latitude'] * int(slope) + intercept\n",
    "line_eq = \"y = \" + str(round(slope,2)) + \"x + \" + str(round(intercept,2))\n",
    "\n",
    "\n",
    "print(slope)\n",
    "print(intercept)\n",
    "print(rvalue)\n",
    "print(pvalue)\n",
    "print(stderr)\n",
    "print(\"---------------------\")\n",
    "print(line_eq)\n",
    "\n",
    "plt.scatter(north_df['Latitude'], north_df['High Temp'], marker=\"o\", facecolors=\"red\", edgecolors=\"black\", alpha=0.75)\n",
    "\n",
    "\n",
    "plt.plot(north_df['Latitude'],regress_values,\"r-\")\n",
    "plt.annotate(line_eq,(-40,10),fontsize=15,color=\"red\")\n",
    "\n",
    "plt.title(\"City Latitude vs. Max Temperature \" + str(today))\n",
    "plt.xlabel(\"Latitude\")\n",
    "plt.ylabel(\"Max Temp (F)\")\n",
    "plt.show()"
   ]
  },
  {
   "cell_type": "markdown",
   "metadata": {},
   "source": [
    "####  Northern Hemisphere - Max Temp vs. Latitude Linear Regression"
   ]
  },
  {
   "cell_type": "code",
   "execution_count": 22,
   "metadata": {},
   "outputs": [
    {
     "name": "stdout",
     "output_type": "stream",
     "text": [
      "-1.5875430618549595\n",
      "102.43227936800719\n",
      "-0.9172781520194887\n",
      "2.6368010884693814e-12\n",
      "0.1326463360258855\n",
      "---------------------\n",
      "y = -1.59x + 102.43\n"
     ]
    },
    {
     "data": {
      "image/png": "[encoded data removed]",
      "text/plain": [
       "<Figure size 432x288 with 1 Axes>"
      ]
     },
     "metadata": {
      "needs_background": "light"
     },
     "output_type": "display_data"
    }
   ],
   "source": [
    "x_limit = 100\n",
    "y_limit = 100\n",
    "\n",
    "\n",
    "(slope, intercept, rvalue, pvalue, stderr) = linregress(north_df['Latitude'], north_df['High Temp'])\n",
    "regress_values = north_df['Latitude'] * int(slope) + intercept\n",
    "line_eq = \"y = \" + str(round(slope,2)) + \"x + \" + str(round(intercept,2))\n",
    "\n",
    "\n",
    "print(slope)\n",
    "print(intercept)\n",
    "print(rvalue)\n",
    "print(pvalue)\n",
    "print(stderr)\n",
    "print(\"---------------------\")\n",
    "print(line_eq)\n",
    "\n",
    "plt.scatter(north_df['Latitude'], north_df['High Temp'], marker=\"o\", facecolors=\"red\", edgecolors=\"black\", alpha=0.75)\n",
    "\n",
    "\n",
    "plt.plot(north_df['Latitude'],regress_values,\"r-\")\n",
    "plt.annotate(line_eq,(-40,10),fontsize=15,color=\"red\")\n",
    "\n",
    "plt.title(\"N Hemisphere City Lat vs. Max Temp \" + str(today))\n",
    "plt.xlabel(\"Latitude\")\n",
    "plt.ylabel(\"Max Temp (F)\")\n",
    "plt.show()"
   ]
  },
  {
   "cell_type": "markdown",
   "metadata": {},
   "source": [
    "####  Southern Hemisphere - Max Temp vs. Latitude Linear Regression"
   ]
  },
  {
   "cell_type": "code",
   "execution_count": 26,
   "metadata": {},
   "outputs": [
    {
     "name": "stdout",
     "output_type": "stream",
     "text": [
      "0.4186343338120126\n",
      "83.20134781529022\n",
      "0.6462163733525842\n",
      "0.009245133872271986\n",
      "0.13711896708434285\n",
      "---------------------\n",
      "y = 0.42x + 83.2\n"
     ]
    },
    {
     "data": {
      "image/png": "[encoded data removed]",
      "text/plain": [
       "<Figure size 432x288 with 1 Axes>"
      ]
     },
     "metadata": {
      "needs_background": "light"
     },
     "output_type": "display_data"
    }
   ],
   "source": [
    "(slope, intercept, rvalue, pvalue, stderr) = linregress(south_df['Latitude'], south_df['High Temp'])\n",
    "regress_values = south_df['Latitude'] * int(slope) + intercept\n",
    "line_eq = \"y = \" + str(round(slope,2)) + \"x + \" + str(round(intercept,2))\n",
    "\n",
    "\n",
    "print(slope)\n",
    "print(intercept)\n",
    "print(rvalue)\n",
    "print(pvalue)\n",
    "print(stderr)\n",
    "print(\"---------------------\")\n",
    "print(line_eq)\n",
    "\n",
    "plt.scatter(south_df['Latitude'], south_df['High Temp'], marker=\"o\", facecolors=\"red\", edgecolors=\"black\", alpha=0.75)\n",
    "\n",
    "\n",
    "plt.plot(south_df['Latitude'],regress_values,\"r-\")\n",
    "plt.annotate(line_eq,(-30,60),fontsize=15,color=\"red\")\n",
    "\n",
    "plt.title(\"S Hemisphere City Lat vs. Max Temp \" + str(today))\n",
    "plt.xlabel(\"Latitude\")\n",
    "plt.ylabel(\"Max Temp (F)\")\n",
    "plt.show()"
   ]
  },
  {
   "cell_type": "markdown",
   "metadata": {},
   "source": [
    "####  Northern Hemisphere - Humidity (%) vs. Latitude Linear Regression"
   ]
  },
  {
   "cell_type": "code",
   "execution_count": 27,
   "metadata": {},
   "outputs": [
    {
     "name": "stdout",
     "output_type": "stream",
     "text": [
      "0.2738261930877282\n",
      "61.565826697495396\n",
      "0.283572163369962\n",
      "0.13603872182637142\n",
      "0.17820746034770024\n",
      "---------------------\n",
      "y = 0.27x + 61.57\n"
     ]
    },
    {
     "data": {
      "image/png": "[encoded data removed]",
      "text/plain": [
       "<Figure size 432x288 with 1 Axes>"
      ]
     },
     "metadata": {
      "needs_background": "light"
     },
     "output_type": "display_data"
    }
   ],
   "source": [
    "(slope, intercept, rvalue, pvalue, stderr) = linregress(north_df['Latitude'], north_df['Humidity'])\n",
    "regress_values = north_df['Latitude'] * int(slope) + intercept\n",
    "line_eq = \"y = \" + str(round(slope,2)) + \"x + \" + str(round(intercept,2))\n",
    "\n",
    "\n",
    "print(slope)\n",
    "print(intercept)\n",
    "print(rvalue)\n",
    "print(pvalue)\n",
    "print(stderr)\n",
    "print(\"---------------------\")\n",
    "print(line_eq)\n",
    "\n",
    "plt.scatter(north_df['Latitude'], north_df['Humidity'], marker=\"o\", facecolors=\"red\", edgecolors=\"black\", alpha=0.75)\n",
    "\n",
    "\n",
    "plt.plot(north_df['Latitude'],regress_values,\"r-\")\n",
    "plt.annotate(line_eq,(40,40),fontsize=15,color=\"red\")\n",
    "\n",
    "plt.title(\"N Hemisphere City Lat vs. Humidity (%) \" + str(today))\n",
    "plt.xlabel(\"Latitude\")\n",
    "plt.ylabel(\"Humidity (%)\")\n",
    "plt.show()"
   ]
  },
  {
   "cell_type": "markdown",
   "metadata": {},
   "source": [
    "####  Southern Hemisphere - Humidity (%) vs. Latitude Linear Regression"
   ]
  },
  {
   "cell_type": "code",
   "execution_count": 30,
   "metadata": {},
   "outputs": [
    {
     "name": "stdout",
     "output_type": "stream",
     "text": [
      "0.1710744504303562\n",
      "83.39383312748338\n",
      "0.2388852228096\n",
      "0.39119695853247305\n",
      "0.19287005536541715\n",
      "---------------------\n",
      "y = 0.17x + 83.39\n"
     ]
    },
    {
     "data": {
      "image/png": "[encoded data removed]",
      "text/plain": [
       "<Figure size 432x288 with 1 Axes>"
      ]
     },
     "metadata": {
      "needs_background": "light"
     },
     "output_type": "display_data"
    }
   ],
   "source": [
    "(slope, intercept, rvalue, pvalue, stderr) = linregress(south_df['Latitude'], south_df['Humidity'])\n",
    "regress_values = south_df['Latitude'] * int(slope) + intercept\n",
    "line_eq = \"y = \" + str(round(slope,2)) + \"x + \" + str(round(intercept,2))\n",
    "\n",
    "\n",
    "print(slope)\n",
    "print(intercept)\n",
    "print(rvalue)\n",
    "print(pvalue)\n",
    "print(stderr)\n",
    "print(\"---------------------\")\n",
    "print(line_eq)\n",
    "\n",
    "plt.scatter(south_df['Latitude'], south_df['Humidity'], marker=\"o\", facecolors=\"red\", edgecolors=\"black\", alpha=0.75)\n",
    "\n",
    "\n",
    "plt.plot(south_df['Latitude'],regress_values,\"r-\")\n",
    "plt.annotate(line_eq,(-40,50),fontsize=15,color=\"red\")\n",
    "\n",
    "plt.title(\"S Hemisphere City Lat vs. Humidity (%) \" + str(today))\n",
    "plt.xlabel(\"Latitude\")\n",
    "plt.ylabel(\"Humidity (%)\")\n",
    "plt.show()"
   ]
  },
  {
   "cell_type": "markdown",
   "metadata": {},
   "source": [
    "####  Northern Hemisphere - Cloudiness (%) vs. Latitude Linear Regression"
   ]
  },
  {
   "cell_type": "code",
   "execution_count": 33,
   "metadata": {},
   "outputs": [
    {
     "name": "stdout",
     "output_type": "stream",
     "text": [
      "0.44254980712218717\n",
      "35.47931114071972\n",
      "0.22657912458839913\n",
      "0.2372284290686391\n",
      "0.36611380806571425\n",
      "---------------------\n",
      "y = 0.44x + 35.48\n"
     ]
    },
    {
     "data": {
      "image/png": "[encoded data removed]",
      "text/plain": [
       "<Figure size 432x288 with 1 Axes>"
      ]
     },
     "metadata": {
      "needs_background": "light"
     },
     "output_type": "display_data"
    }
   ],
   "source": [
    "(slope, intercept, rvalue, pvalue, stderr) = linregress(north_df['Latitude'], north_df['Cloudiness'])\n",
    "regress_values = north_df['Latitude'] * int(slope) + intercept\n",
    "line_eq = \"y = \" + str(round(slope,2)) + \"x + \" + str(round(intercept,2))\n",
    "\n",
    "\n",
    "print(slope)\n",
    "print(intercept)\n",
    "print(rvalue)\n",
    "print(pvalue)\n",
    "print(stderr)\n",
    "print(\"---------------------\")\n",
    "print(line_eq)\n",
    "\n",
    "plt.scatter(north_df['Latitude'], north_df['Cloudiness'], marker=\"o\", facecolors=\"red\", edgecolors=\"black\", alpha=0.75)\n",
    "\n",
    "\n",
    "plt.plot(north_df['Latitude'],regress_values,\"r-\")\n",
    "plt.annotate(line_eq,(40,25),fontsize=15,color=\"red\")\n",
    "\n",
    "plt.title(\"N Hemisphere City Lat vs. Cloudiness (%) \" + str(today))\n",
    "plt.xlabel(\"Latitude\")\n",
    "plt.ylabel('Cloudiness (%)')\n",
    "plt.show()"
   ]
  },
  {
   "cell_type": "markdown",
   "metadata": {},
   "source": [
    "####  Southern Hemisphere - Cloudiness (%) vs. Latitude Linear Regression"
   ]
  },
  {
   "cell_type": "code",
   "execution_count": 35,
   "metadata": {},
   "outputs": [
    {
     "name": "stdout",
     "output_type": "stream",
     "text": [
      "0.40171229118485524\n",
      "80.581176247633\n",
      "0.1841372392788752\n",
      "0.5112163063711561\n",
      "0.5947184217086433\n",
      "---------------------\n",
      "y = 0.4x + 80.58\n"
     ]
    },
    {
     "data": {
      "image/png": "[encoded data removed]",
      "text/plain": [
       "<Figure size 432x288 with 1 Axes>"
      ]
     },
     "metadata": {
      "needs_background": "light"
     },
     "output_type": "display_data"
    }
   ],
   "source": [
    "(slope, intercept, rvalue, pvalue, stderr) = linregress(south_df['Latitude'], south_df['Cloudiness'])\n",
    "regress_values = south_df['Latitude'] * int(slope) + intercept\n",
    "line_eq = \"y = \" + str(round(slope,2)) + \"x + \" + str(round(intercept,2))\n",
    "\n",
    "\n",
    "print(slope)\n",
    "print(intercept)\n",
    "print(rvalue)\n",
    "print(pvalue)\n",
    "print(stderr)\n",
    "print(\"---------------------\")\n",
    "print(line_eq)\n",
    "\n",
    "plt.scatter(south_df['Latitude'], south_df['Cloudiness'], marker=\"o\", facecolors=\"red\", edgecolors=\"black\", alpha=0.75)\n",
    "\n",
    "\n",
    "plt.plot(south_df['Latitude'],regress_values,\"r-\")\n",
    "plt.annotate(line_eq,(-40,25),fontsize=15,color=\"red\")\n",
    "\n",
    "plt.title(\"S Hemisphere City Lat vs. Cloudiness (%) \" + str(today))\n",
    "plt.xlabel(\"Latitude\")\n",
    "plt.ylabel('Cloudiness (%)')\n",
    "plt.show()"
   ]
  },
  {
   "cell_type": "markdown",
   "metadata": {},
   "source": [
    "####  Northern Hemisphere - Wind Speed (mph) vs. Latitude Linear Regression"
   ]
  },
  {
   "cell_type": "code",
   "execution_count": 36,
   "metadata": {},
   "outputs": [
    {
     "name": "stdout",
     "output_type": "stream",
     "text": [
      "0.025909487691110285\n",
      "7.558565622693995\n",
      "0.07656400948665475\n",
      "0.693024638540378\n",
      "0.06493451516329446\n",
      "---------------------\n",
      "y = 0.03x + 7.56\n"
     ]
    },
    {
     "data": {
      "image/png": "[encoded data removed]",
      "text/plain": [
       "<Figure size 432x288 with 1 Axes>"
      ]
     },
     "metadata": {
      "needs_background": "light"
     },
     "output_type": "display_data"
    }
   ],
   "source": [
    "(slope, intercept, rvalue, pvalue, stderr) = linregress(north_df['Latitude'], north_df['Wind Speed'])\n",
    "regress_values = north_df['Latitude'] * int(slope) + intercept\n",
    "line_eq = \"y = \" + str(round(slope,2)) + \"x + \" + str(round(intercept,2))\n",
    "\n",
    "\n",
    "print(slope)\n",
    "print(intercept)\n",
    "print(rvalue)\n",
    "print(pvalue)\n",
    "print(stderr)\n",
    "print(\"---------------------\")\n",
    "print(line_eq)\n",
    "\n",
    "plt.scatter(north_df['Latitude'], north_df['Wind Speed'], marker=\"o\", facecolors=\"red\", edgecolors=\"black\", alpha=0.75)\n",
    "\n",
    "\n",
    "plt.plot(north_df['Latitude'],regress_values,\"r-\")\n",
    "plt.annotate(line_eq,(40,25),fontsize=15,color=\"red\")\n",
    "\n",
    "plt.title(\"N Hemisphere City Lat vs. Cloudiness (%) \" + str(today))\n",
    "plt.xlabel(\"Latitude\")\n",
    "plt.ylabel('Wind Speed (mph)')\n",
    "plt.show()"
   ]
  },
  {
   "cell_type": "markdown",
   "metadata": {},
   "source": [
    "####  Southern Hemisphere - Wind Speed (mph) vs. Latitude Linear Regression"
   ]
  },
  {
   "cell_type": "code",
   "execution_count": 38,
   "metadata": {},
   "outputs": [
    {
     "name": "stdout",
     "output_type": "stream",
     "text": [
      "0.044464702874057814\n",
      "10.264037369389902\n",
      "0.1336442756572891\n",
      "0.6349026569578924\n",
      "0.09144919382315299\n",
      "---------------------\n",
      "y = 0.04x + 10.26\n"
     ]
    },
    {
     "data": {
      "image/png": "[encoded data removed]",
      "text/plain": [
       "<Figure size 432x288 with 1 Axes>"
      ]
     },
     "metadata": {
      "needs_background": "light"
     },
     "output_type": "display_data"
    }
   ],
   "source": [
    "(slope, intercept, rvalue, pvalue, stderr) = linregress(south_df['Latitude'], south_df['Wind Speed'])\n",
    "regress_values = south_df['Latitude'] * int(slope) + intercept\n",
    "line_eq = \"y = \" + str(round(slope,2)) + \"x + \" + str(round(intercept,2))\n",
    "\n",
    "\n",
    "print(slope)\n",
    "print(intercept)\n",
    "print(rvalue)\n",
    "print(pvalue)\n",
    "print(stderr)\n",
    "print(\"---------------------\")\n",
    "print(line_eq)\n",
    "\n",
    "plt.scatter(south_df['Latitude'], south_df['Wind Speed'], marker=\"o\", facecolors=\"red\", edgecolors=\"black\", alpha=0.75)\n",
    "\n",
    "\n",
    "plt.plot(south_df['Latitude'],regress_values,\"r-\")\n",
    "plt.annotate(line_eq,(-40,15),fontsize=15,color=\"red\")\n",
    "\n",
    "plt.title(\"S Hemisphere City Lat vs. Cloudiness (%) \" + str(today))\n",
    "plt.xlabel(\"Latitude\")\n",
    "plt.ylabel('Wind Speed (mph)')\n",
    "plt.show()"
   ]
  },
  {
   "cell_type": "code",
   "execution_count": null,
   "metadata": {},
   "outputs": [],
   "source": []
  }
 ],
 "metadata": {
  "anaconda-cloud": {},
  "kernel_info": {
   "name": "python3"
  },
  "kernelspec": {
   "display_name": "Python 3",
   "language": "python",
   "name": "python3"
  },
  "language_info": {
   "codemirror_mode": {
    "name": "ipython",
    "version": 3
   },
   "file_extension": ".py",
   "mimetype": "text/x-python",
   "name": "python",
   "nbconvert_exporter": "python",
   "pygments_lexer": "ipython3",
   "version": "3.7.4"
  },
  "latex_envs": {
   "LaTeX_envs_menu_present": true,
   "autoclose": false,
   "autocomplete": true,
   "bibliofile": "biblio.bib",
   "cite_by": "apalike",
   "current_citInitial": 1,
   "eqLabelWithNumbers": true,
   "eqNumInitial": 1,
   "hotkeys": {
    "equation": "Ctrl-E",
    "itemize": "Ctrl-I"
   },
   "labels_anchors": false,
   "latex_user_defs": false,
   "report_style_numbering": false,
   "user_envs_cfg": false
  },
  "nteract": {
   "version": "0.12.3"
  }
 },
 "nbformat": 4,
 "nbformat_minor": 2
}
