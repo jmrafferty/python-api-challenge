{
 "cells": [
  {
   "cell_type": "markdown",
   "metadata": {},
   "source": [
    "# WeatherPy\n",
    "----\n",
    "\n",
    "#### Note\n",
    "* Instructions have been included for each segment. You do not have to follow them exactly, but they are included to help you think through the steps."
   ]
  },
  {
   "cell_type": "code",
   "execution_count": 1,
   "metadata": {},
   "outputs": [],
   "source": [
    "#pip install citipy -- done from command line"
   ]
  },
  {
   "cell_type": "code",
   "execution_count": 2,
   "metadata": {
    "scrolled": true
   },
   "outputs": [],
   "source": [
    "# Dependencies and Setup\n",
    "import citipy\n",
    "import matplotlib.pyplot as plt\n",
    "import pandas as pd\n",
    "import numpy as np\n",
    "import requests\n",
    "import time\n",
    "from scipy.stats import linregress\n",
    "from datetime import date\n",
    "\n",
    "# Import API key\n",
    "from api_keys import weather_api_key\n",
    "\n",
    "# Incorporated citipy to determine city based on latitude and longitude\n",
    "from citipy import citipy\n",
    "\n",
    "# Output File (CSV)\n",
    "output_data_file = \"output_data/cities.csv\"\n",
    "\n",
    "# Range of latitudes and longitudes\n",
    "lat_range = (-90, 90)\n",
    "lng_range = (-180, 180)\n",
    "\n",
    "today = date.today()"
   ]
  },
  {
   "cell_type": "markdown",
   "metadata": {},
   "source": [
    "## Generate Cities List"
   ]
  },
  {
   "cell_type": "code",
   "execution_count": 3,
   "metadata": {},
   "outputs": [
    {
     "data": {
      "text/plain": [
       "592"
      ]
     },
     "execution_count": 3,
     "metadata": {},
     "output_type": "execute_result"
    }
   ],
   "source": [
    "# List for holding lat_lngs and cities\n",
    "lat_lngs = []\n",
    "cities = []\n",
    "\n",
    "# Create a set of random lat and lng combinations\n",
    "lats = np.random.uniform(low=-90.000, high=90.000, size=1500)\n",
    "lngs = np.random.uniform(low=-180.000, high=180.000, size=1500)\n",
    "lat_lngs = zip(lats, lngs)\n",
    "\n",
    "# Identify nearest city for each lat, lng combination\n",
    "for lat_lng in lat_lngs:\n",
    "    city = citipy.nearest_city(lat_lng[0], lat_lng[1]).city_name\n",
    "    \n",
    "    # If the city is unique, then add it to a our cities list\n",
    "    if city not in cities:\n",
    "        cities.append(city)\n",
    "\n",
    "# Print the city count to confirm sufficient count\n",
    "len(cities)"
   ]
  },
  {
   "cell_type": "markdown",
   "metadata": {},
   "source": [
    "### Perform API Calls\n",
    "* Perform a weather check on each city using a series of successive API calls.\n",
    "* Include a print log of each city as it'sbeing processed (with the city number and city name).\n"
   ]
  },
  {
   "cell_type": "code",
   "execution_count": 4,
   "metadata": {},
   "outputs": [
    {
     "name": "stdout",
     "output_type": "stream",
     "text": [
      "['dingle', 'berlevag', 'nemuro', 'wahran', 'rikitea', 'nakusp', 'barentsburg', 'pacific grove', 'albany', 'cortez', 'lorengau', 'binzhou', 'mafinga', 'hovd', 'saint-philippe', 'atuona', 'vaitupu', 'lagoa', 'caravelas', 'chernogorsk']\n"
     ]
    }
   ],
   "source": [
    "####ONLY FOR TESTING PURPOSES###\n",
    "cities = cities[0:20]\n",
    "print(cities)"
   ]
  },
  {
   "cell_type": "code",
   "execution_count": 5,
   "metadata": {},
   "outputs": [
    {
     "name": "stdout",
     "output_type": "stream",
     "text": [
      "3 cities not found\n"
     ]
    }
   ],
   "source": [
    "\n",
    "\n",
    "#step 1: Get URL using for loop to pull in\n",
    "\n",
    "# Save config information.\n",
    "url = \"http://api.openweathermap.org/data/2.5/weather?\"\n",
    "units = \"imperial\"\n",
    "\n",
    "# Build partial query URL\n",
    "query_url = f\"{url}appid={weather_api_key}&units={units}&q=\"\n",
    "\n",
    "# set up lists to hold reponse info\n",
    "city_list = []\n",
    "country = []\n",
    "lat = []\n",
    "long = []\n",
    "maxTemp = []\n",
    "humidity = []\n",
    "cloud = []\n",
    "wind = []\n",
    "#error counter\n",
    "errorCount = 0\n",
    "\n",
    "for city in cities:\n",
    "    \n",
    "    try:\n",
    "        response = requests.get(query_url + city).json()\n",
    "        lat.append(response['coord']['lat'])\n",
    "        long.append(response['coord']['lon'])\n",
    "        maxTemp.append(response['main']['temp_max'])\n",
    "        humidity.append(response['main']['humidity'])\n",
    "        cloud.append(response['clouds']['all'])\n",
    "        wind.append(response['wind']['speed'])\n",
    "        city_list.append(response['name'])\n",
    "        country.append(response['sys']['country'])\n",
    "        \n",
    "    except:\n",
    "        errorCount+=1\n",
    "        \n",
    "    #Wait a second in loop to not over exceed rate limit of API\n",
    "    time.sleep(1.01)\n",
    "print(f'{errorCount} cities not found')"
   ]
  },
  {
   "cell_type": "code",
   "execution_count": 6,
   "metadata": {},
   "outputs": [
    {
     "name": "stdout",
     "output_type": "stream",
     "text": [
      "['Dingle', 'Berlevag', 'Nemuro', 'Rikitea', 'Nakusp', 'Pacific Grove', 'Albany', 'Cortez', 'Lorengau', 'Binzhou', 'Mafinga', 'Khovd', 'Saint-Philippe', 'Atuona', 'Lagoa', 'Caravelas', 'Chernogorsk']\n",
      "['PH', 'NO', 'JP', 'PF', 'CA', 'US', 'US', 'US', 'PG', 'CN', 'TZ', 'MN', 'RE', 'PF', 'PT', 'BR', 'RU']\n",
      "[11, 70.86, 43.32, -23.12, 50.25, 36.62, 42.6, 37.35, -2.02, 37.37, -7.25, 48.01, -21.36, -9.8, 39.05, -17.71, 53.82]\n",
      "[122.67, 29.09, 145.57, -134.97, -117.8, -121.92, -73.97, -108.59, 147.27, 118.02, 35.07, 91.64, 55.77, -139.03, -27.98, -39.25, 91.28]\n",
      "[77.11, 32, 24.8, 77.92, 28, 59, 33.8, 35.01, 84.15, 52.45, 64.67, 25.77, 80.6, 82, 61.79, 80.94, 37.4]\n",
      "[82, 81, 73, 77, 97, 44, 94, 69, 76, 32, 89, 33, 83, 76, 89, 81, 64]\n",
      "[100, 40, 75, 18, 99, 1, 90, 90, 100, 0, 100, 100, 75, 20, 100, 84, 100]\n",
      "[16.04, 11.41, 13.87, 16.17, 1.99, 3.36, 4.7, 6.4, 15.23, 5.91, 1.5, 7.76, 10.29, 16.17, 11.52, 16.33, 8.95]\n"
     ]
    }
   ],
   "source": [
    "print(city_list)\n",
    "print(country)\n",
    "print(lat)\n",
    "print(long)\n",
    "print(maxTemp)\n",
    "print(humidity)\n",
    "print(cloud)\n",
    "print(wind)"
   ]
  },
  {
   "cell_type": "code",
   "execution_count": 7,
   "metadata": {},
   "outputs": [],
   "source": [
    "city_weatherInfo= {'City':city_list, 'Country':country, 'Latitude':lat, 'Longitude':long,\n",
    "               'High Temp':maxTemp, 'Humidity':humidity, 'Cloudiness':cloud, 'Wind Speed':wind}\n",
    "\n",
    "#city_weatherInfo"
   ]
  },
  {
   "cell_type": "code",
   "execution_count": 8,
   "metadata": {
    "scrolled": false
   },
   "outputs": [],
   "source": [
    "#step 3: Convert to DF\n",
    "\n",
    "city_weatherDF = pd.DataFrame(city_weatherInfo)"
   ]
  },
  {
   "cell_type": "markdown",
   "metadata": {},
   "source": [
    "### Convert Raw Data to DataFrame\n",
    "* Export the city data into a .csv.\n",
    "* Display the DataFrame"
   ]
  },
  {
   "cell_type": "code",
   "execution_count": 9,
   "metadata": {},
   "outputs": [],
   "source": [
    "city_weatherDF.to_csv('output_data_file')"
   ]
  },
  {
   "cell_type": "code",
   "execution_count": 10,
   "metadata": {},
   "outputs": [
    {
     "data": {
      "text/html": [
       "<div>\n",
       "<style scoped>\n",
       "    .dataframe tbody tr th:only-of-type {\n",
       "        vertical-align: middle;\n",
       "    }\n",
       "\n",
       "    .dataframe tbody tr th {\n",
       "        vertical-align: top;\n",
       "    }\n",
       "\n",
       "    .dataframe thead th {\n",
       "        text-align: right;\n",
       "    }\n",
       "</style>\n",
       "<table border=\"1\" class=\"dataframe\">\n",
       "  <thead>\n",
       "    <tr style=\"text-align: right;\">\n",
       "      <th></th>\n",
       "      <th>City</th>\n",
       "      <th>Country</th>\n",
       "      <th>Latitude</th>\n",
       "      <th>Longitude</th>\n",
       "      <th>High Temp</th>\n",
       "      <th>Humidity</th>\n",
       "      <th>Cloudiness</th>\n",
       "      <th>Wind Speed</th>\n",
       "    </tr>\n",
       "  </thead>\n",
       "  <tbody>\n",
       "    <tr>\n",
       "      <td>0</td>\n",
       "      <td>Dingle</td>\n",
       "      <td>PH</td>\n",
       "      <td>11.00</td>\n",
       "      <td>122.67</td>\n",
       "      <td>77.11</td>\n",
       "      <td>82</td>\n",
       "      <td>100</td>\n",
       "      <td>16.04</td>\n",
       "    </tr>\n",
       "    <tr>\n",
       "      <td>1</td>\n",
       "      <td>Berlevag</td>\n",
       "      <td>NO</td>\n",
       "      <td>70.86</td>\n",
       "      <td>29.09</td>\n",
       "      <td>32.00</td>\n",
       "      <td>81</td>\n",
       "      <td>40</td>\n",
       "      <td>11.41</td>\n",
       "    </tr>\n",
       "    <tr>\n",
       "      <td>2</td>\n",
       "      <td>Nemuro</td>\n",
       "      <td>JP</td>\n",
       "      <td>43.32</td>\n",
       "      <td>145.57</td>\n",
       "      <td>24.80</td>\n",
       "      <td>73</td>\n",
       "      <td>75</td>\n",
       "      <td>13.87</td>\n",
       "    </tr>\n",
       "    <tr>\n",
       "      <td>3</td>\n",
       "      <td>Rikitea</td>\n",
       "      <td>PF</td>\n",
       "      <td>-23.12</td>\n",
       "      <td>-134.97</td>\n",
       "      <td>77.92</td>\n",
       "      <td>77</td>\n",
       "      <td>18</td>\n",
       "      <td>16.17</td>\n",
       "    </tr>\n",
       "    <tr>\n",
       "      <td>4</td>\n",
       "      <td>Nakusp</td>\n",
       "      <td>CA</td>\n",
       "      <td>50.25</td>\n",
       "      <td>-117.80</td>\n",
       "      <td>28.00</td>\n",
       "      <td>97</td>\n",
       "      <td>99</td>\n",
       "      <td>1.99</td>\n",
       "    </tr>\n",
       "    <tr>\n",
       "      <td>5</td>\n",
       "      <td>Pacific Grove</td>\n",
       "      <td>US</td>\n",
       "      <td>36.62</td>\n",
       "      <td>-121.92</td>\n",
       "      <td>59.00</td>\n",
       "      <td>44</td>\n",
       "      <td>1</td>\n",
       "      <td>3.36</td>\n",
       "    </tr>\n",
       "    <tr>\n",
       "      <td>6</td>\n",
       "      <td>Albany</td>\n",
       "      <td>US</td>\n",
       "      <td>42.60</td>\n",
       "      <td>-73.97</td>\n",
       "      <td>33.80</td>\n",
       "      <td>94</td>\n",
       "      <td>90</td>\n",
       "      <td>4.70</td>\n",
       "    </tr>\n",
       "    <tr>\n",
       "      <td>7</td>\n",
       "      <td>Cortez</td>\n",
       "      <td>US</td>\n",
       "      <td>37.35</td>\n",
       "      <td>-108.59</td>\n",
       "      <td>35.01</td>\n",
       "      <td>69</td>\n",
       "      <td>90</td>\n",
       "      <td>6.40</td>\n",
       "    </tr>\n",
       "    <tr>\n",
       "      <td>8</td>\n",
       "      <td>Lorengau</td>\n",
       "      <td>PG</td>\n",
       "      <td>-2.02</td>\n",
       "      <td>147.27</td>\n",
       "      <td>84.15</td>\n",
       "      <td>76</td>\n",
       "      <td>100</td>\n",
       "      <td>15.23</td>\n",
       "    </tr>\n",
       "    <tr>\n",
       "      <td>9</td>\n",
       "      <td>Binzhou</td>\n",
       "      <td>CN</td>\n",
       "      <td>37.37</td>\n",
       "      <td>118.02</td>\n",
       "      <td>52.45</td>\n",
       "      <td>32</td>\n",
       "      <td>0</td>\n",
       "      <td>5.91</td>\n",
       "    </tr>\n",
       "  </tbody>\n",
       "</table>\n",
       "</div>"
      ],
      "text/plain": [
       "            City Country  Latitude  Longitude  High Temp  Humidity  \\\n",
       "0         Dingle      PH     11.00     122.67      77.11        82   \n",
       "1       Berlevag      NO     70.86      29.09      32.00        81   \n",
       "2         Nemuro      JP     43.32     145.57      24.80        73   \n",
       "3        Rikitea      PF    -23.12    -134.97      77.92        77   \n",
       "4         Nakusp      CA     50.25    -117.80      28.00        97   \n",
       "5  Pacific Grove      US     36.62    -121.92      59.00        44   \n",
       "6         Albany      US     42.60     -73.97      33.80        94   \n",
       "7         Cortez      US     37.35    -108.59      35.01        69   \n",
       "8       Lorengau      PG     -2.02     147.27      84.15        76   \n",
       "9        Binzhou      CN     37.37     118.02      52.45        32   \n",
       "\n",
       "   Cloudiness  Wind Speed  \n",
       "0         100       16.04  \n",
       "1          40       11.41  \n",
       "2          75       13.87  \n",
       "3          18       16.17  \n",
       "4          99        1.99  \n",
       "5           1        3.36  \n",
       "6          90        4.70  \n",
       "7          90        6.40  \n",
       "8         100       15.23  \n",
       "9           0        5.91  "
      ]
     },
     "execution_count": 10,
     "metadata": {},
     "output_type": "execute_result"
    }
   ],
   "source": [
    "city_weatherDF.head(10)"
   ]
  },
  {
   "cell_type": "markdown",
   "metadata": {},
   "source": [
    "### Plotting the Data\n",
    "* Use proper labeling of the plots using plot titles (including date of analysis) and axes labels.\n",
    "* Save the plotted figures as .pngs."
   ]
  },
  {
   "cell_type": "markdown",
   "metadata": {},
   "source": [
    "#### Latitude vs. Temperature Plot"
   ]
  },
  {
   "cell_type": "code",
   "execution_count": 11,
   "metadata": {
    "scrolled": true
   },
   "outputs": [
    {
     "data": {
      "image/png": "[encoded data removed]",
      "text/plain": [
       "<Figure size 432x288 with 1 Axes>"
      ]
     },
     "metadata": {
      "needs_background": "light"
     },
     "output_type": "display_data"
    }
   ],
   "source": [
    "# The maximum x value for our chart will be 100\n",
    "x_limit = 100\n",
    "y_limit = 100\n",
    "\n",
    "# List of values from 0 to 100 each value being 1 greater than the last\n",
    "#x_axis = np.arange(lat, x_limit, 10)\n",
    "\n",
    "#y_axis = np.arange(maxTemp, y_limit, 10)\n",
    "\n",
    "\n",
    "# Tells matplotlib that we want to make a scatter plot\n",
    "# The size of each point on our plot is determined by their x value\n",
    "plt.scatter(lat, maxTemp, marker=\"o\", facecolors=\"red\", edgecolors=\"black\", alpha=0.75)\n",
    "\n",
    "plt.title(\"City Latitude vs. Max Temperature \" + str(today))\n",
    "plt.xlabel(\"Latitude\")\n",
    "plt.ylabel(\"Max Temp (F)\")\n",
    "plt.show()"
   ]
  },
  {
   "cell_type": "markdown",
   "metadata": {},
   "source": [
    "#### Latitude vs. Humidity Plot"
   ]
  },
  {
   "cell_type": "code",
   "execution_count": 12,
   "metadata": {},
   "outputs": [
    {
     "data": {
      "image/png": "[encoded data removed]",
      "text/plain": [
       "<Figure size 432x288 with 1 Axes>"
      ]
     },
     "metadata": {
      "needs_background": "light"
     },
     "output_type": "display_data"
    }
   ],
   "source": [
    "plt.scatter(lat, humidity, marker=\"o\", facecolors=\"red\", edgecolors=\"black\", alpha=0.75)\n",
    "\n",
    "plt.title(\"City Latitude vs. Humidity \" + str(today))\n",
    "plt.xlabel(\"Latitude\")\n",
    "plt.ylabel(\"Humidity (%)\")\n",
    "plt.show()"
   ]
  },
  {
   "cell_type": "markdown",
   "metadata": {},
   "source": [
    "#### Latitude vs. Cloudiness Plot"
   ]
  },
  {
   "cell_type": "code",
   "execution_count": 13,
   "metadata": {},
   "outputs": [
    {
     "data": {
      "image/png": "[encoded data removed]",
      "text/plain": [
       "<Figure size 432x288 with 1 Axes>"
      ]
     },
     "metadata": {
      "needs_background": "light"
     },
     "output_type": "display_data"
    }
   ],
   "source": [
    "plt.scatter(lat, cloud, marker=\"o\", facecolors=\"red\", edgecolors=\"black\", alpha=0.75)\n",
    "\n",
    "plt.title(\"City Latitude vs. Cloudiness \" + str(today))\n",
    "plt.xlabel(\"Latitude\")\n",
    "plt.ylabel(\"Cloudiness (%)\")\n",
    "plt.show()"
   ]
  },
  {
   "cell_type": "markdown",
   "metadata": {},
   "source": [
    "#### Latitude vs. Wind Speed Plot"
   ]
  },
  {
   "cell_type": "code",
   "execution_count": 14,
   "metadata": {},
   "outputs": [
    {
     "data": {
      "image/png": "[encoded data removed]",
      "text/plain": [
       "<Figure size 432x288 with 1 Axes>"
      ]
     },
     "metadata": {
      "needs_background": "light"
     },
     "output_type": "display_data"
    }
   ],
   "source": [
    "plt.scatter(lat, wind, marker=\"o\", facecolors=\"red\", edgecolors=\"black\", alpha=0.75)\n",
    "\n",
    "plt.title(\"City Latitude vs. Wind Speed \" + str(today))\n",
    "plt.xlabel(\"Latitude\")\n",
    "plt.ylabel(\"Wind Speed (mph)\")\n",
    "plt.show()"
   ]
  },
  {
   "cell_type": "code",
   "execution_count": 15,
   "metadata": {},
   "outputs": [
    {
     "name": "stdout",
     "output_type": "stream",
     "text": [
      "['Dingle', 'Berlevag', 'Nemuro', 'Rikitea', 'Nakusp', 'Pacific Grove', 'Albany', 'Cortez', 'Lorengau', 'Binzhou', 'Mafinga', 'Khovd', 'Saint-Philippe', 'Atuona', 'Lagoa', 'Caravelas', 'Chernogorsk']\n",
      "['PH', 'NO', 'JP', 'PF', 'CA', 'US', 'US', 'US', 'PG', 'CN', 'TZ', 'MN', 'RE', 'PF', 'PT', 'BR', 'RU']\n",
      "[11, 70.86, 43.32, -23.12, 50.25, 36.62, 42.6, 37.35, -2.02, 37.37, -7.25, 48.01, -21.36, -9.8, 39.05, -17.71, 53.82]\n",
      "[122.67, 29.09, 145.57, -134.97, -117.8, -121.92, -73.97, -108.59, 147.27, 118.02, 35.07, 91.64, 55.77, -139.03, -27.98, -39.25, 91.28]\n",
      "[77.11, 32, 24.8, 77.92, 28, 59, 33.8, 35.01, 84.15, 52.45, 64.67, 25.77, 80.6, 82, 61.79, 80.94, 37.4]\n",
      "[82, 81, 73, 77, 97, 44, 94, 69, 76, 32, 89, 33, 83, 76, 89, 81, 64]\n",
      "[100, 40, 75, 18, 99, 1, 90, 90, 100, 0, 100, 100, 75, 20, 100, 84, 100]\n",
      "[16.04, 11.41, 13.87, 16.17, 1.99, 3.36, 4.7, 6.4, 15.23, 5.91, 1.5, 7.76, 10.29, 16.17, 11.52, 16.33, 8.95]\n"
     ]
    }
   ],
   "source": [
    "print(city_list)\n",
    "print(country)\n",
    "print(lat)\n",
    "print(long)\n",
    "print(maxTemp)\n",
    "print(humidity)\n",
    "print(cloud)\n",
    "print(wind)"
   ]
  },
  {
   "cell_type": "markdown",
   "metadata": {},
   "source": [
    "## Linear Regression"
   ]
  },
  {
   "cell_type": "code",
   "execution_count": 16,
   "metadata": {},
   "outputs": [],
   "source": [
    "# OPTIONAL: Create a function to create Linear Regression plots\n"
   ]
  },
  {
   "cell_type": "code",
   "execution_count": 17,
   "metadata": {},
   "outputs": [],
   "source": [
    "# Create Northern and Southern Hemisphere DataFrames\n"
   ]
  },
  {
   "cell_type": "markdown",
   "metadata": {},
   "source": [
    "####  Northern Hemisphere - Max Temp vs. Latitude Linear Regression"
   ]
  },
  {
   "cell_type": "code",
   "execution_count": null,
   "metadata": {},
   "outputs": [],
   "source": []
  },
  {
   "cell_type": "markdown",
   "metadata": {},
   "source": [
    "####  Southern Hemisphere - Max Temp vs. Latitude Linear Regression"
   ]
  },
  {
   "cell_type": "code",
   "execution_count": null,
   "metadata": {},
   "outputs": [],
   "source": []
  },
  {
   "cell_type": "markdown",
   "metadata": {},
   "source": [
    "####  Northern Hemisphere - Humidity (%) vs. Latitude Linear Regression"
   ]
  },
  {
   "cell_type": "code",
   "execution_count": null,
   "metadata": {},
   "outputs": [],
   "source": []
  },
  {
   "cell_type": "markdown",
   "metadata": {},
   "source": [
    "####  Southern Hemisphere - Humidity (%) vs. Latitude Linear Regression"
   ]
  },
  {
   "cell_type": "code",
   "execution_count": null,
   "metadata": {},
   "outputs": [],
   "source": []
  },
  {
   "cell_type": "markdown",
   "metadata": {},
   "source": [
    "####  Northern Hemisphere - Cloudiness (%) vs. Latitude Linear Regression"
   ]
  },
  {
   "cell_type": "code",
   "execution_count": null,
   "metadata": {},
   "outputs": [],
   "source": []
  },
  {
   "cell_type": "markdown",
   "metadata": {},
   "source": [
    "####  Southern Hemisphere - Cloudiness (%) vs. Latitude Linear Regression"
   ]
  },
  {
   "cell_type": "code",
   "execution_count": null,
   "metadata": {},
   "outputs": [],
   "source": []
  },
  {
   "cell_type": "markdown",
   "metadata": {},
   "source": [
    "####  Northern Hemisphere - Wind Speed (mph) vs. Latitude Linear Regression"
   ]
  },
  {
   "cell_type": "code",
   "execution_count": null,
   "metadata": {},
   "outputs": [],
   "source": []
  },
  {
   "cell_type": "markdown",
   "metadata": {},
   "source": [
    "####  Southern Hemisphere - Wind Speed (mph) vs. Latitude Linear Regression"
   ]
  },
  {
   "cell_type": "code",
   "execution_count": null,
   "metadata": {},
   "outputs": [],
   "source": []
  },
  {
   "cell_type": "code",
   "execution_count": null,
   "metadata": {},
   "outputs": [],
   "source": []
  }
 ],
 "metadata": {
  "anaconda-cloud": {},
  "kernel_info": {
   "name": "python3"
  },
  "kernelspec": {
   "display_name": "Python 3",
   "language": "python",
   "name": "python3"
  },
  "language_info": {
   "codemirror_mode": {
    "name": "ipython",
    "version": 3
   },
   "file_extension": ".py",
   "mimetype": "text/x-python",
   "name": "python",
   "nbconvert_exporter": "python",
   "pygments_lexer": "ipython3",
   "version": "3.7.4"
  },
  "latex_envs": {
   "LaTeX_envs_menu_present": true,
   "autoclose": false,
   "autocomplete": true,
   "bibliofile": "biblio.bib",
   "cite_by": "apalike",
   "current_citInitial": 1,
   "eqLabelWithNumbers": true,
   "eqNumInitial": 1,
   "hotkeys": {
    "equation": "Ctrl-E",
    "itemize": "Ctrl-I"
   },
   "labels_anchors": false,
   "latex_user_defs": false,
   "report_style_numbering": false,
   "user_envs_cfg": false
  },
  "nteract": {
   "version": "0.12.3"
  }
 },
 "nbformat": 4,
 "nbformat_minor": 2
}
