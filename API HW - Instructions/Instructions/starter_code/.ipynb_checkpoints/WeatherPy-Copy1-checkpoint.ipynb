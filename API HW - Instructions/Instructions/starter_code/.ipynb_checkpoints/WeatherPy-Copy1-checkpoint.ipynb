{
 "cells": [
  {
   "cell_type": "markdown",
   "metadata": {},
   "source": [
    "# WeatherPy\n",
    "----\n",
    "\n",
    "#### Note\n",
    "* Instructions have been included for each segment. You do not have to follow them exactly, but they are included to help you think through the steps."
   ]
  },
  {
   "cell_type": "code",
   "execution_count": 1,
   "metadata": {},
   "outputs": [],
   "source": [
    "#pip install citipy -- done from command line"
   ]
  },
  {
   "cell_type": "code",
   "execution_count": 2,
   "metadata": {
    "scrolled": true
   },
   "outputs": [],
   "source": [
    "# Dependencies and Setup\n",
    "import citipy\n",
    "import matplotlib.pyplot as plt\n",
    "import pandas as pd\n",
    "import numpy as np\n",
    "import requests\n",
    "import time\n",
    "from scipy.stats import linregress\n",
    "from datetime import date\n",
    "\n",
    "# Import API key\n",
    "from api_keys import weather_api_key\n",
    "\n",
    "# Incorporated citipy to determine city based on latitude and longitude\n",
    "from citipy import citipy\n",
    "\n",
    "# Output File (CSV)\n",
    "output_data_file = \"output_data/cities.csv\"\n",
    "\n",
    "# Range of latitudes and longitudes\n",
    "lat_range = (-90, 90)\n",
    "lng_range = (-180, 180)\n",
    "\n",
    "today = date.today()"
   ]
  },
  {
   "cell_type": "markdown",
   "metadata": {},
   "source": [
    "## Generate Cities List"
   ]
  },
  {
   "cell_type": "code",
   "execution_count": 3,
   "metadata": {},
   "outputs": [
    {
     "data": {
      "text/plain": [
       "597"
      ]
     },
     "execution_count": 3,
     "metadata": {},
     "output_type": "execute_result"
    }
   ],
   "source": [
    "# List for holding lat_lngs and cities\n",
    "lat_lngs = []\n",
    "cities = []\n",
    "\n",
    "# Create a set of random lat and lng combinations\n",
    "lats = np.random.uniform(low=-90.000, high=90.000, size=1500)\n",
    "lngs = np.random.uniform(low=-180.000, high=180.000, size=1500)\n",
    "lat_lngs = zip(lats, lngs)\n",
    "\n",
    "# Identify nearest city for each lat, lng combination\n",
    "for lat_lng in lat_lngs:\n",
    "    city = citipy.nearest_city(lat_lng[0], lat_lng[1]).city_name\n",
    "    \n",
    "    # If the city is unique, then add it to a our cities list\n",
    "    if city not in cities:\n",
    "        cities.append(city)\n",
    "\n",
    "# Print the city count to confirm sufficient count\n",
    "len(cities)"
   ]
  },
  {
   "cell_type": "markdown",
   "metadata": {},
   "source": [
    "### Perform API Calls\n",
    "* Perform a weather check on each city using a series of successive API calls.\n",
    "* Include a print log of each city as it'sbeing processed (with the city number and city name).\n"
   ]
  },
  {
   "cell_type": "code",
   "execution_count": 4,
   "metadata": {},
   "outputs": [
    {
     "name": "stdout",
     "output_type": "stream",
     "text": [
      "['solec kujawski', 'sidi ali', 'valleyview', 'rikitea', 'hermanus', 'kamina', 'cape town', 'korla', 'kodiak', 'grand river south east', 'saint-philippe', 'castro', 'puerto ayora', 'punta arenas', 'fare', 'te anau', 'naze', 'vardo', 'new norfolk', 'ashqelon']\n"
     ]
    }
   ],
   "source": [
    "####ONLY FOR TESTING PURPOSES###\n",
    "cities = cities[0:20]\n",
    "print(cities)"
   ]
  },
  {
   "cell_type": "code",
   "execution_count": 5,
   "metadata": {},
   "outputs": [
    {
     "name": "stdout",
     "output_type": "stream",
     "text": [
      "1 cities not found\n"
     ]
    }
   ],
   "source": [
    "\n",
    "\n",
    "#step 1: Get URL using for loop to pull in\n",
    "\n",
    "# Save config information.\n",
    "url = \"http://api.openweathermap.org/data/2.5/weather?\"\n",
    "units = \"imperial\"\n",
    "\n",
    "# Build partial query URL\n",
    "query_url = f\"{url}appid={weather_api_key}&units={units}&q=\"\n",
    "\n",
    "# set up lists to hold reponse info\n",
    "city_list = []\n",
    "country = []\n",
    "lat = []\n",
    "long = []\n",
    "maxTemp = []\n",
    "humidity = []\n",
    "cloud = []\n",
    "wind = []\n",
    "#error counter\n",
    "errorCount = 0\n",
    "\n",
    "for city in cities:\n",
    "    \n",
    "    try:\n",
    "        response = requests.get(query_url + city).json()\n",
    "        lat.append(response['coord']['lat'])\n",
    "        long.append(response['coord']['lon'])\n",
    "        maxTemp.append(response['main']['temp_max'])\n",
    "        humidity.append(response['main']['humidity'])\n",
    "        cloud.append(response['clouds']['all'])\n",
    "        wind.append(response['wind']['speed'])\n",
    "        city_list.append(response['name'])\n",
    "        country.append(response['sys']['country'])\n",
    "        \n",
    "    except:\n",
    "        errorCount+=1\n",
    "        \n",
    "    #Wait a second in loop to not over exceed rate limit of API\n",
    "    time.sleep(1.01)\n",
    "print(f'{errorCount} cities not found')"
   ]
  },
  {
   "cell_type": "code",
   "execution_count": 6,
   "metadata": {},
   "outputs": [
    {
     "name": "stdout",
     "output_type": "stream",
     "text": [
      "['Solec Kujawski', 'Sidi Ali', 'Valleyview', 'Rikitea', 'Hermanus', 'Kamina', 'Cape Town', 'Korla', 'Kodiak', 'Saint-Philippe', 'Castro', 'Puerto Ayora', 'Punta Arenas', 'Fare', 'Te Anau', 'Naze', 'Vardo', 'New Norfolk', 'Ashquelon']\n",
      "['PL', 'DZ', 'CA', 'PF', 'ZA', 'CD', 'ZA', 'CN', 'US', 'RE', 'BR', 'EC', 'CL', 'PF', 'NZ', 'JP', 'NO', 'AU', 'IL']\n",
      "[53.08, 36.1, 55.07, -23.12, -34.42, -8.74, -33.93, 41.76, 57.79, -21.36, -24.79, -0.74, -53.15, -16.7, -45.42, 28.37, 70.37, -42.78, 31.67]\n",
      "[18.23, 0.42, -117.29, -134.97, 19.23, 24.99, 18.42, 86.15, -152.41, 55.77, -50.01, -90.35, -70.92, -151.02, 167.72, 129.48, 31.11, 147.06, 34.57]\n",
      "[39.99, 51.8, 7.9, 78.96, 72, 63.91, 72, 26.01, 32, 78.8, 58.42, 78.64, 51.8, 81.99, 66.18, 69.8, 31.53, 66.99, 53.6]\n",
      "[69, 51, 93, 80, 88, 95, 82, 81, 95, 94, 96, 82, 87, 79, 48, 77, 79, 72, 93]\n",
      "[75, 0, 100, 100, 0, 100, 0, 69, 90, 58, 84, 68, 90, 16, 100, 75, 22, 75, 75]\n",
      "[23.04, 5.32, 6.42, 20.56, 8.01, 3.09, 1.12, 2.55, 17.22, 17.22, 8.01, 4.47, 10.29, 14.45, 7.36, 20.8, 19.62, 14.99, 10.29]\n"
     ]
    }
   ],
   "source": [
    "print(city_list)\n",
    "print(country)\n",
    "print(lat)\n",
    "print(long)\n",
    "print(maxTemp)\n",
    "print(humidity)\n",
    "print(cloud)\n",
    "print(wind)"
   ]
  },
  {
   "cell_type": "code",
   "execution_count": 7,
   "metadata": {},
   "outputs": [],
   "source": [
    "city_weatherInfo= {'City':city_list, 'Country':country, 'Latitude':lat, 'Longitude':long,\n",
    "               'High Temp':maxTemp, 'Humidity':humidity, 'Cloudiness':cloud, 'Wind Speed':wind}\n",
    "\n",
    "#city_weatherInfo"
   ]
  },
  {
   "cell_type": "code",
   "execution_count": 8,
   "metadata": {
    "scrolled": false
   },
   "outputs": [],
   "source": [
    "#step 3: Convert to DF\n",
    "\n",
    "city_weatherDF = pd.DataFrame(city_weatherInfo)"
   ]
  },
  {
   "cell_type": "markdown",
   "metadata": {},
   "source": [
    "### Convert Raw Data to DataFrame\n",
    "* Export the city data into a .csv.\n",
    "* Display the DataFrame"
   ]
  },
  {
   "cell_type": "code",
   "execution_count": 9,
   "metadata": {},
   "outputs": [],
   "source": [
    "city_weatherDF.to_csv('output_data_file')"
   ]
  },
  {
   "cell_type": "code",
   "execution_count": 10,
   "metadata": {},
   "outputs": [
    {
     "data": {
      "text/html": [
       "<div>\n",
       "<style scoped>\n",
       "    .dataframe tbody tr th:only-of-type {\n",
       "        vertical-align: middle;\n",
       "    }\n",
       "\n",
       "    .dataframe tbody tr th {\n",
       "        vertical-align: top;\n",
       "    }\n",
       "\n",
       "    .dataframe thead th {\n",
       "        text-align: right;\n",
       "    }\n",
       "</style>\n",
       "<table border=\"1\" class=\"dataframe\">\n",
       "  <thead>\n",
       "    <tr style=\"text-align: right;\">\n",
       "      <th></th>\n",
       "      <th>City</th>\n",
       "      <th>Country</th>\n",
       "      <th>Latitude</th>\n",
       "      <th>Longitude</th>\n",
       "      <th>High Temp</th>\n",
       "      <th>Humidity</th>\n",
       "      <th>Cloudiness</th>\n",
       "      <th>Wind Speed</th>\n",
       "    </tr>\n",
       "  </thead>\n",
       "  <tbody>\n",
       "    <tr>\n",
       "      <td>0</td>\n",
       "      <td>Solec Kujawski</td>\n",
       "      <td>PL</td>\n",
       "      <td>53.08</td>\n",
       "      <td>18.23</td>\n",
       "      <td>39.99</td>\n",
       "      <td>69</td>\n",
       "      <td>75</td>\n",
       "      <td>23.04</td>\n",
       "    </tr>\n",
       "    <tr>\n",
       "      <td>1</td>\n",
       "      <td>Sidi Ali</td>\n",
       "      <td>DZ</td>\n",
       "      <td>36.10</td>\n",
       "      <td>0.42</td>\n",
       "      <td>51.80</td>\n",
       "      <td>51</td>\n",
       "      <td>0</td>\n",
       "      <td>5.32</td>\n",
       "    </tr>\n",
       "    <tr>\n",
       "      <td>2</td>\n",
       "      <td>Valleyview</td>\n",
       "      <td>CA</td>\n",
       "      <td>55.07</td>\n",
       "      <td>-117.29</td>\n",
       "      <td>7.90</td>\n",
       "      <td>93</td>\n",
       "      <td>100</td>\n",
       "      <td>6.42</td>\n",
       "    </tr>\n",
       "    <tr>\n",
       "      <td>3</td>\n",
       "      <td>Rikitea</td>\n",
       "      <td>PF</td>\n",
       "      <td>-23.12</td>\n",
       "      <td>-134.97</td>\n",
       "      <td>78.96</td>\n",
       "      <td>80</td>\n",
       "      <td>100</td>\n",
       "      <td>20.56</td>\n",
       "    </tr>\n",
       "    <tr>\n",
       "      <td>4</td>\n",
       "      <td>Hermanus</td>\n",
       "      <td>ZA</td>\n",
       "      <td>-34.42</td>\n",
       "      <td>19.23</td>\n",
       "      <td>72.00</td>\n",
       "      <td>88</td>\n",
       "      <td>0</td>\n",
       "      <td>8.01</td>\n",
       "    </tr>\n",
       "    <tr>\n",
       "      <td>5</td>\n",
       "      <td>Kamina</td>\n",
       "      <td>CD</td>\n",
       "      <td>-8.74</td>\n",
       "      <td>24.99</td>\n",
       "      <td>63.91</td>\n",
       "      <td>95</td>\n",
       "      <td>100</td>\n",
       "      <td>3.09</td>\n",
       "    </tr>\n",
       "    <tr>\n",
       "      <td>6</td>\n",
       "      <td>Cape Town</td>\n",
       "      <td>ZA</td>\n",
       "      <td>-33.93</td>\n",
       "      <td>18.42</td>\n",
       "      <td>72.00</td>\n",
       "      <td>82</td>\n",
       "      <td>0</td>\n",
       "      <td>1.12</td>\n",
       "    </tr>\n",
       "    <tr>\n",
       "      <td>7</td>\n",
       "      <td>Korla</td>\n",
       "      <td>CN</td>\n",
       "      <td>41.76</td>\n",
       "      <td>86.15</td>\n",
       "      <td>26.01</td>\n",
       "      <td>81</td>\n",
       "      <td>69</td>\n",
       "      <td>2.55</td>\n",
       "    </tr>\n",
       "    <tr>\n",
       "      <td>8</td>\n",
       "      <td>Kodiak</td>\n",
       "      <td>US</td>\n",
       "      <td>57.79</td>\n",
       "      <td>-152.41</td>\n",
       "      <td>32.00</td>\n",
       "      <td>95</td>\n",
       "      <td>90</td>\n",
       "      <td>17.22</td>\n",
       "    </tr>\n",
       "    <tr>\n",
       "      <td>9</td>\n",
       "      <td>Saint-Philippe</td>\n",
       "      <td>RE</td>\n",
       "      <td>-21.36</td>\n",
       "      <td>55.77</td>\n",
       "      <td>78.80</td>\n",
       "      <td>94</td>\n",
       "      <td>58</td>\n",
       "      <td>17.22</td>\n",
       "    </tr>\n",
       "  </tbody>\n",
       "</table>\n",
       "</div>"
      ],
      "text/plain": [
       "             City Country  Latitude  Longitude  High Temp  Humidity  \\\n",
       "0  Solec Kujawski      PL     53.08      18.23      39.99        69   \n",
       "1        Sidi Ali      DZ     36.10       0.42      51.80        51   \n",
       "2      Valleyview      CA     55.07    -117.29       7.90        93   \n",
       "3         Rikitea      PF    -23.12    -134.97      78.96        80   \n",
       "4        Hermanus      ZA    -34.42      19.23      72.00        88   \n",
       "5          Kamina      CD     -8.74      24.99      63.91        95   \n",
       "6       Cape Town      ZA    -33.93      18.42      72.00        82   \n",
       "7           Korla      CN     41.76      86.15      26.01        81   \n",
       "8          Kodiak      US     57.79    -152.41      32.00        95   \n",
       "9  Saint-Philippe      RE    -21.36      55.77      78.80        94   \n",
       "\n",
       "   Cloudiness  Wind Speed  \n",
       "0          75       23.04  \n",
       "1           0        5.32  \n",
       "2         100        6.42  \n",
       "3         100       20.56  \n",
       "4           0        8.01  \n",
       "5         100        3.09  \n",
       "6           0        1.12  \n",
       "7          69        2.55  \n",
       "8          90       17.22  \n",
       "9          58       17.22  "
      ]
     },
     "execution_count": 10,
     "metadata": {},
     "output_type": "execute_result"
    }
   ],
   "source": [
    "city_weatherDF.head(10)"
   ]
  },
  {
   "cell_type": "markdown",
   "metadata": {},
   "source": [
    "### Plotting the Data\n",
    "* Use proper labeling of the plots using plot titles (including date of analysis) and axes labels.\n",
    "* Save the plotted figures as .pngs."
   ]
  },
  {
   "cell_type": "markdown",
   "metadata": {},
   "source": [
    "#### Latitude vs. Temperature Plot"
   ]
  },
  {
   "cell_type": "code",
   "execution_count": 11,
   "metadata": {
    "scrolled": true
   },
   "outputs": [
    {
     "data": {
      "image/png": "[encoded data removed]",
      "text/plain": [
       "<Figure size 432x288 with 1 Axes>"
      ]
     },
     "metadata": {
      "needs_background": "light"
     },
     "output_type": "display_data"
    }
   ],
   "source": [
    "# The maximum x value for our chart will be 100\n",
    "x_limit = 100\n",
    "y_limit = 100\n",
    "\n",
    "\n",
    "\n",
    "plt.scatter(lat, maxTemp, marker=\"o\", facecolors=\"red\", edgecolors=\"black\", alpha=0.75)\n",
    "\n",
    "\n",
    "plt.title(\"City Latitude vs. Max Temperature \" + str(today))\n",
    "plt.xlabel(\"Latitude\")\n",
    "plt.ylabel(\"Max Temp (F)\")\n",
    "plt.show()"
   ]
  },
  {
   "cell_type": "markdown",
   "metadata": {},
   "source": [
    "#### Latitude vs. Humidity Plot"
   ]
  },
  {
   "cell_type": "code",
   "execution_count": 12,
   "metadata": {},
   "outputs": [
    {
     "data": {
      "image/png": "[encoded data removed]",
      "text/plain": [
       "<Figure size 432x288 with 1 Axes>"
      ]
     },
     "metadata": {
      "needs_background": "light"
     },
     "output_type": "display_data"
    }
   ],
   "source": [
    "plt.scatter(lat, humidity, marker=\"o\", facecolors=\"red\", edgecolors=\"black\", alpha=0.75)\n",
    "\n",
    "plt.title(\"City Latitude vs. Humidity \" + str(today))\n",
    "plt.xlabel(\"Latitude\")\n",
    "plt.ylabel(\"Humidity (%)\")\n",
    "plt.show()"
   ]
  },
  {
   "cell_type": "markdown",
   "metadata": {},
   "source": [
    "#### Latitude vs. Cloudiness Plot"
   ]
  },
  {
   "cell_type": "code",
   "execution_count": 13,
   "metadata": {},
   "outputs": [
    {
     "data": {
      "image/png": "[encoded data removed]",
      "text/plain": [
       "<Figure size 432x288 with 1 Axes>"
      ]
     },
     "metadata": {
      "needs_background": "light"
     },
     "output_type": "display_data"
    }
   ],
   "source": [
    "plt.scatter(lat, cloud, marker=\"o\", facecolors=\"red\", edgecolors=\"black\", alpha=0.75)\n",
    "\n",
    "plt.title(\"City Latitude vs. Cloudiness \" + str(today))\n",
    "plt.xlabel(\"Latitude\")\n",
    "plt.ylabel(\"Cloudiness (%)\")\n",
    "plt.show()"
   ]
  },
  {
   "cell_type": "markdown",
   "metadata": {},
   "source": [
    "#### Latitude vs. Wind Speed Plot"
   ]
  },
  {
   "cell_type": "code",
   "execution_count": 14,
   "metadata": {},
   "outputs": [
    {
     "data": {
      "image/png": "[encoded data removed]",
      "text/plain": [
       "<Figure size 432x288 with 1 Axes>"
      ]
     },
     "metadata": {
      "needs_background": "light"
     },
     "output_type": "display_data"
    }
   ],
   "source": [
    "plt.scatter(lat, wind, marker=\"o\", facecolors=\"red\", edgecolors=\"black\", alpha=0.75)\n",
    "\n",
    "plt.title(\"City Latitude vs. Wind Speed \" + str(today))\n",
    "plt.xlabel(\"Latitude\")\n",
    "plt.ylabel(\"Wind Speed (mph)\")\n",
    "plt.show()"
   ]
  },
  {
   "cell_type": "code",
   "execution_count": 15,
   "metadata": {},
   "outputs": [
    {
     "name": "stdout",
     "output_type": "stream",
     "text": [
      "['Solec Kujawski', 'Sidi Ali', 'Valleyview', 'Rikitea', 'Hermanus', 'Kamina', 'Cape Town', 'Korla', 'Kodiak', 'Saint-Philippe', 'Castro', 'Puerto Ayora', 'Punta Arenas', 'Fare', 'Te Anau', 'Naze', 'Vardo', 'New Norfolk', 'Ashquelon']\n",
      "['PL', 'DZ', 'CA', 'PF', 'ZA', 'CD', 'ZA', 'CN', 'US', 'RE', 'BR', 'EC', 'CL', 'PF', 'NZ', 'JP', 'NO', 'AU', 'IL']\n",
      "[53.08, 36.1, 55.07, -23.12, -34.42, -8.74, -33.93, 41.76, 57.79, -21.36, -24.79, -0.74, -53.15, -16.7, -45.42, 28.37, 70.37, -42.78, 31.67]\n",
      "[18.23, 0.42, -117.29, -134.97, 19.23, 24.99, 18.42, 86.15, -152.41, 55.77, -50.01, -90.35, -70.92, -151.02, 167.72, 129.48, 31.11, 147.06, 34.57]\n",
      "[39.99, 51.8, 7.9, 78.96, 72, 63.91, 72, 26.01, 32, 78.8, 58.42, 78.64, 51.8, 81.99, 66.18, 69.8, 31.53, 66.99, 53.6]\n",
      "[69, 51, 93, 80, 88, 95, 82, 81, 95, 94, 96, 82, 87, 79, 48, 77, 79, 72, 93]\n",
      "[75, 0, 100, 100, 0, 100, 0, 69, 90, 58, 84, 68, 90, 16, 100, 75, 22, 75, 75]\n",
      "[23.04, 5.32, 6.42, 20.56, 8.01, 3.09, 1.12, 2.55, 17.22, 17.22, 8.01, 4.47, 10.29, 14.45, 7.36, 20.8, 19.62, 14.99, 10.29]\n"
     ]
    }
   ],
   "source": [
    "print(city_list)\n",
    "print(country)\n",
    "print(lat)\n",
    "print(long)\n",
    "print(maxTemp)\n",
    "print(humidity)\n",
    "print(cloud)\n",
    "print(wind)"
   ]
  },
  {
   "cell_type": "markdown",
   "metadata": {},
   "source": [
    "## Linear Regression"
   ]
  },
  {
   "cell_type": "code",
   "execution_count": 16,
   "metadata": {},
   "outputs": [],
   "source": [
    "# OPTIONAL: Create a function to create Linear Regression plots\n"
   ]
  },
  {
   "cell_type": "code",
   "execution_count": 17,
   "metadata": {},
   "outputs": [],
   "source": [
    "# Create Northern and Southern Hemisphere DataFrames\n"
   ]
  },
  {
   "cell_type": "markdown",
   "metadata": {},
   "source": [
    "####  Northern Hemisphere - Max Temp vs. Latitude Linear Regression"
   ]
  },
  {
   "cell_type": "code",
   "execution_count": 23,
   "metadata": {},
   "outputs": [
    {
     "name": "stdout",
     "output_type": "stream",
     "text": [
      "-0.37510063623883544\n",
      "58.327602628350206\n",
      "-0.7281442822400522\n",
      "0.0004082683775971456\n",
      "0.08563772700900138\n",
      "---------------------\n",
      "y = -0.38x + 58.33\n"
     ]
    },
    {
     "data": {
      "image/png": "[encoded data removed]",
      "text/plain": [
       "<Figure size 432x288 with 1 Axes>"
      ]
     },
     "metadata": {
      "needs_background": "light"
     },
     "output_type": "display_data"
    }
   ],
   "source": [
    "#### LIN REGREGSSION: MATPLOTLIB Class 3 -- 2:25:00 ###\n",
    "\n",
    "\n",
    "city_list = np.array(city_list)\n",
    "country = np.array(country)\n",
    "lat = np.array(lat)\n",
    "long = np.array(long)\n",
    "maxTemp = np.array(maxTemp)\n",
    "humidity = np.array(humidity)\n",
    "cloud = np.array(cloud)\n",
    "wind = np.array(wind)\n",
    "\n",
    "# The maximum x value for our chart will be 100\n",
    "x_limit = 100\n",
    "y_limit = 100\n",
    "\n",
    "\n",
    "(slope, intercept, rvalue, pvalue, stderr) = linregress(lat, maxTemp)\n",
    "regress_values = lat * int(slope) + intercept\n",
    "line_eq = \"y = \" + str(round(slope,2)) + \"x + \" + str(round(intercept,2))\n",
    "\n",
    "\n",
    "print(slope)\n",
    "print(intercept)\n",
    "print(rvalue)\n",
    "print(pvalue)\n",
    "print(stderr)\n",
    "print(\"---------------------\")\n",
    "print(line_eq)\n",
    "\n",
    "plt.scatter(lat, maxTemp, marker=\"o\", facecolors=\"red\", edgecolors=\"black\", alpha=0.75)\n",
    "\n",
    "\n",
    "plt.plot(lat,regress_values,\"r-\")\n",
    "plt.annotate(line_eq,(-40,10),fontsize=15,color=\"red\")\n",
    "\n",
    "plt.title(\"City Latitude vs. Max Temperature \" + str(today))\n",
    "plt.xlabel(\"Latitude\")\n",
    "plt.ylabel(\"Max Temp (F)\")\n",
    "plt.show()"
   ]
  },
  {
   "cell_type": "markdown",
   "metadata": {},
   "source": [
    "####  Southern Hemisphere - Max Temp vs. Latitude Linear Regression"
   ]
  },
  {
   "cell_type": "code",
   "execution_count": null,
   "metadata": {},
   "outputs": [],
   "source": []
  },
  {
   "cell_type": "markdown",
   "metadata": {},
   "source": [
    "####  Northern Hemisphere - Humidity (%) vs. Latitude Linear Regression"
   ]
  },
  {
   "cell_type": "code",
   "execution_count": null,
   "metadata": {},
   "outputs": [],
   "source": []
  },
  {
   "cell_type": "markdown",
   "metadata": {},
   "source": [
    "####  Southern Hemisphere - Humidity (%) vs. Latitude Linear Regression"
   ]
  },
  {
   "cell_type": "code",
   "execution_count": null,
   "metadata": {},
   "outputs": [],
   "source": []
  },
  {
   "cell_type": "markdown",
   "metadata": {},
   "source": [
    "####  Northern Hemisphere - Cloudiness (%) vs. Latitude Linear Regression"
   ]
  },
  {
   "cell_type": "code",
   "execution_count": null,
   "metadata": {},
   "outputs": [],
   "source": []
  },
  {
   "cell_type": "markdown",
   "metadata": {},
   "source": [
    "####  Southern Hemisphere - Cloudiness (%) vs. Latitude Linear Regression"
   ]
  },
  {
   "cell_type": "code",
   "execution_count": null,
   "metadata": {},
   "outputs": [],
   "source": []
  },
  {
   "cell_type": "markdown",
   "metadata": {},
   "source": [
    "####  Northern Hemisphere - Wind Speed (mph) vs. Latitude Linear Regression"
   ]
  },
  {
   "cell_type": "code",
   "execution_count": null,
   "metadata": {},
   "outputs": [],
   "source": []
  },
  {
   "cell_type": "markdown",
   "metadata": {},
   "source": [
    "####  Southern Hemisphere - Wind Speed (mph) vs. Latitude Linear Regression"
   ]
  },
  {
   "cell_type": "code",
   "execution_count": null,
   "metadata": {},
   "outputs": [],
   "source": []
  },
  {
   "cell_type": "code",
   "execution_count": null,
   "metadata": {},
   "outputs": [],
   "source": []
  }
 ],
 "metadata": {
  "anaconda-cloud": {},
  "kernel_info": {
   "name": "python3"
  },
  "kernelspec": {
   "display_name": "Python 3",
   "language": "python",
   "name": "python3"
  },
  "language_info": {
   "codemirror_mode": {
    "name": "ipython",
    "version": 3
   },
   "file_extension": ".py",
   "mimetype": "text/x-python",
   "name": "python",
   "nbconvert_exporter": "python",
   "pygments_lexer": "ipython3",
   "version": "3.7.4"
  },
  "latex_envs": {
   "LaTeX_envs_menu_present": true,
   "autoclose": false,
   "autocomplete": true,
   "bibliofile": "biblio.bib",
   "cite_by": "apalike",
   "current_citInitial": 1,
   "eqLabelWithNumbers": true,
   "eqNumInitial": 1,
   "hotkeys": {
    "equation": "Ctrl-E",
    "itemize": "Ctrl-I"
   },
   "labels_anchors": false,
   "latex_user_defs": false,
   "report_style_numbering": false,
   "user_envs_cfg": false
  },
  "nteract": {
   "version": "0.12.3"
  }
 },
 "nbformat": 4,
 "nbformat_minor": 2
}
